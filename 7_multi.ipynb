{
 "cells": [
  {
   "cell_type": "markdown",
   "metadata": {},
   "source": [
    "# 정직하게 코딩하며 배우는 딥러닝 입문 7장"
   ]
  },
  {
   "cell_type": "markdown",
   "metadata": {},
   "source": [
    "# 챕터 1 퀴즈\n",
    "- 분류 모델의 정답 타깃의 값은 _이고 나머지 오답타깃의 값은 ___이다\n",
    "- 소프트 맥스 함수는 다중분류 신경망에서 활성화 출력의 합을 ___로 만들기 위해서 사용한다\n",
    "- 크로스 엔트로피 손실함수의 미분결과는 로지스틱 손실함수의 미분결과와 ____다."
   ]
  },
  {
   "cell_type": "code",
   "execution_count": 1,
   "metadata": {},
   "outputs": [],
   "source": [
    "import numpy as np"
   ]
  },
  {
   "cell_type": "code",
   "execution_count": 44,
   "metadata": {},
   "outputs": [],
   "source": [
    "# class MultiClassNetwork:\n",
    "    \n",
    "#     def __init__(self, units=10, batch_size=32, learning_rate = 0.1, l1=0, l2=0):\n",
    "#         self.units = units # 은닉층 뉴런의 개수\n",
    "#         self.batch_size = batch_size #배치크기\n",
    "#         self.w1 = None # 은닉층의 가중치\n",
    "#         self.b1 = None # 은닉층의 절편\n",
    "        \n",
    "#         self.w2 = None #출력층의 가중치\n",
    "#         self.b2 = None #출력층의 절편\n",
    "        \n",
    "#         self.a1 = None #은닉층의 활성화 뉴런\n",
    "        \n",
    "#         self.losses = [] #훈련손실\n",
    "#         self.val_losses = [] # 검증손실\n",
    "        \n",
    "#         self.lr = learning_rate #학습률\n",
    "#         self.l1 = l1 #L1손실 하이퍼\n",
    "#         self.l2 = l2 #L2손실 하이퍼\n",
    "        \n",
    "#     def forpass(self, x):\n",
    "#         z1 = np.dot(x, self.w1) + self.b1 #첫번째 층의 선형식을 계산\n",
    "#         self.a1 = self.sigmoid(z1) #활성화 함수를 적용합니다\n",
    "#         z2 = np.dot(self.a1, self.w2) + self.b2 #두번째 층의 선형식을 계산합니다.\n",
    "#         return z2\n",
    "    \n",
    "#     def backprop(self, x, err):\n",
    "#         m = len(x) #샘플개수\n",
    "        \n",
    "#         #출력층의 가중치와 절편에 대한 그레디언트 계산\n",
    "#         w2_grad = np.dot(self.a1.T, err) / m\n",
    "#         b2_grad = np.sum(err) / m\n",
    "        \n",
    "#         #시그모이드 함수까지 그래디언트 계산\n",
    "#         err_to_hidden = np.dot(err, self.w2.T) * self.a1 * (1-self.a1)\n",
    "        \n",
    "#         #은닉층의 가중치와 절편에 대한 가중치 계산\n",
    "#         w1_grad = np.dot(x.T, err_to_hidden) / m\n",
    "#         b1_grad = np.sum(err_to_hidden, axis= 0 )/ m\n",
    "#         return w1_grad, b1_grad, w2_grad, b2_grad\n",
    "    \n",
    "#     def sigmoid(self, z):\n",
    "#         z = np.clip(z, -100, None) #안전한 np.exp()계산을 위해\n",
    "#         a = 1 / (1 + np.exp(-z)) #시그모이드 계산\n",
    "#         return a\n",
    "\n",
    "#     def softmax(self, z):\n",
    "#         #소프트맥스 함수\n",
    "#         z = np.clip(z, -100, None) #안전한 np.exp()를 계산하기 위해\n",
    "#         exp_z = np.exp(z)\n",
    "#         return exp_z / np.sum(exp_z, axis=1).reshape(-1,1)\n",
    "\n",
    "#     def init_weights(self, n_features, n_classes):\n",
    "        \n",
    "#         self.w1 = np.random.normal(0,1, \n",
    "#                                    (n_features, self.units)) #특성개수, 은닉층의 크기\n",
    "#         self.b1 = np.zeros(self.units) #은닉층의 크기\n",
    "        \n",
    "#         self.w2 = np.random.normal(0,1,\n",
    "#                                    (self.units, n_classes)) #은닉층의 크기, 클래스의 개수\n",
    "#         self.b2 = np.zeros(n_classes)\n",
    "        \n",
    "#     def fit(self, x, y, epochs = 100, x_val = None , y_val = None):\n",
    "#         np.random.seed(42)\n",
    "#         self.init.weights(x.shape[1], y.shape[1]) #은닉층과 출력층의 가중치를 초기화\n",
    "        \n",
    "#         #epochs 만큼 반복\n",
    "#         for i in range(epochs):\n",
    "#             loss = 0\n",
    "#             print('.', end = '')\n",
    "            \n",
    "#             #제너레이터 함수에서 반환한 미니배치를 순환합니다\n",
    "#             for x_batch, y_batch, in slef.gen_batch(x,y):\n",
    "#                 a = self.training(x_batch, y_batch)\n",
    "                \n",
    "#                 #안전한 로그 계산하기 위해 클리핑합니다\n",
    "#                 a= np.clip(a, 1e-10, 1-1e-10)\n",
    "                \n",
    "#                 #로그 손실과 규제손실을 더하여 리스트에 추가합니다\n",
    "#                 loss += np.sum(-y_batch*np.log(a))\n",
    "#                 self.losses.append((loss + self.reg_loss()) / len(x)\n",
    "                \n",
    "#                 #검증세트에 대한 손실을 계산합니다\n",
    "#                 # self.update_val_loss(x_val, y_val)\n",
    "                \n",
    "#     #미니배치 제너레이터 개수            \n",
    "#     # 미니배치 제너레이터 함수\n",
    "#     def gen_batch(self, x, y):\n",
    "#         length = len(x)\n",
    "#         bins = length // self.batch_size # 미니배치 횟수\n",
    "#         if length % self.batch_size:\n",
    "#             bins += 1                    # 나누어 떨어지지 않을 때\n",
    "            \n",
    "#         indexes = np.random.permutation(np.arange(len(x))) # 인덱스를 섞습니다.\n",
    "#         x = x[indexes]\n",
    "#         y = y[indexes]\n",
    "#         for i in range(bins):\n",
    "#             start = self.batch_size * i\n",
    "#             end = self.batch_size * (i + 1)\n",
    "#             yield x[start:end], y[start:end]   # batch_size만큼 슬라이싱하여 반환합니다.\n",
    "            \n",
    "#     def training(self, x, y):\n",
    "#         m = len(x)      #샘플 개수를 저장\n",
    "#         z = self.forpass(x) #정방향 계산을 수행\n",
    "#         a = self.softmax(z) #활성화 함수를 적용\n",
    "#         err = -(y - a) #오차를 계산\n",
    "        \n",
    "#         #오차를 역전파 후 그레디언트 계산\n",
    "#         w1_grad, b1_grad, w2_grad, b2_grad = self.backprop(x, err)\n",
    "        \n",
    "#         #그레디언트 페널티 항 미분값 뺌\n",
    "#         w1_grad += (self.l1 * np.sign(self.w1) + self.l2 * self.w1) / m\n",
    "#         w2_grad += (self.l1 * np.sign(self.w2) + self.l2 * self.w2) / m\n",
    "                \n",
    "#         #은닝층의 가중치와 절편 업데이트\n",
    "#         self.w1 -= self.lr * w1_grad\n",
    "#         self.b1 -= self.lr * b1_grad\n",
    "        \n",
    "#         #출력층의 가중치와 절편 업데이트\n",
    "#         self.w2 -= self.lr * w2_grad\n",
    "#         self.b2 -= self.lr * b2_grad\n",
    "        \n",
    "#         return a\n",
    "                \n",
    "#     def predict(self, x):\n",
    "#         z = self.forpass(x) #정방향 계산을 수행\n",
    "#         return np.argmax(z, axis =1) #가장 큰 값의 인덱스 반환\n",
    "        \n",
    "#     def score(self, x, y):\n",
    "#         #예측과 타깃 열 벡터를 비교하여 True의 비율을 반환\n",
    "#         return np.mean(self.predict(x) == np.argmax(y, axis =1))\n",
    "        \n",
    "#     def reg_loss(self):\n",
    "#         #은닉층과 출력층의 가중치에 규제를 적용합니다.\n",
    "#         return self.l1 * (np.sum(np.abs(self.w1))) + np.sum(np.abs(self.w2)) + \\\n",
    "#             self.l2 / 2 * (np.sum(self.w1 ** 2)) + np.sum(self.w2 ** 2)\n",
    "            \n",
    "#     # def update_val_loss(self, x_val, y_val):\n",
    "#     #     z = self.forpass(x_val) #정방향 계산을 수행합니다.\n",
    "#     #     a = self.softmax(z) #활성화 함수를 적용합니다\n",
    "#     #     a = np.clip(a, 1e-10, 1-1e-10) #출력값을 클리핑합니다\n",
    "        \n",
    "#     #     #크로스엔트로피 손실과 규제손실을 더하여 리스트에 추가\n",
    "#     #     val_loss = np.sum(-y_val * np.log(a))\n",
    "#     #     self.val_losses.append((val_loss + self.reg_loss()) / len(y_val))"
   ]
  },
  {
   "cell_type": "markdown",
   "metadata": {},
   "source": [
    "# 1. MultiClassNetwork구현"
   ]
  },
  {
   "cell_type": "code",
   "execution_count": 3,
   "metadata": {},
   "outputs": [],
   "source": [
    "class MultiClassNetwork:\n",
    "    \n",
    "    def __init__(self, units=10, batch_size=32, learning_rate=0.1, l1=0, l2=0):\n",
    "        self.units = units         # 은닉층의 뉴런 개수\n",
    "        self.batch_size = batch_size     # 배치 크기\n",
    "        self.w1 = None             # 은닉층의 가중치\n",
    "        self.b1 = None             # 은닉층의 절편\n",
    "        self.w2 = None             # 출력층의 가중치\n",
    "        self.b2 = None             # 출력층의 절편\n",
    "        self.a1 = None             # 은닉층의 활성화 출력\n",
    "        self.losses = []           # 훈련 손실\n",
    "        self.val_losses = []       # 검증 손실\n",
    "        self.lr = learning_rate    # 학습률\n",
    "        self.l1 = l1               # L1 손실 하이퍼파라미터\n",
    "        self.l2 = l2               # L2 손실 하이퍼파라미터\n",
    "\n",
    "    def forpass(self, x):\n",
    "        z1 = np.dot(x, self.w1) + self.b1        # 첫 번째 층의 선형 식을 계산합니다\n",
    "        self.a1 = self.sigmoid(z1)               # 활성화 함수를 적용합니다\n",
    "        z2 = np.dot(self.a1, self.w2) + self.b2  # 두 번째 층의 선형 식을 계산합니다.\n",
    "        return z2\n",
    "\n",
    "    def backprop(self, x, err):\n",
    "        m = len(x)       # 샘플 개수\n",
    "        # 출력층의 가중치와 절편에 대한 그래디언트를 계산합니다.\n",
    "        w2_grad = np.dot(self.a1.T, err) / m\n",
    "        b2_grad = np.sum(err) / m\n",
    "        # 시그모이드 함수까지 그래디언트를 계산합니다.\n",
    "        err_to_hidden = np.dot(err, self.w2.T) * self.a1 * (1 - self.a1)\n",
    "        # 은닉층의 가중치와 절편에 대한 그래디언트를 계산합니다.\n",
    "        w1_grad = np.dot(x.T, err_to_hidden) / m\n",
    "        b1_grad = np.sum(err_to_hidden, axis=0) / m\n",
    "        return w1_grad, b1_grad, w2_grad, b2_grad\n",
    "    \n",
    "    def sigmoid(self, z):\n",
    "        z = np.clip(z, -100, None)            # 안전한 np.exp() 계산을 위해\n",
    "        a = 1 / (1 + np.exp(-z))              # 시그모이드 계산\n",
    "        return a\n",
    "    \n",
    "    def softmax(self, z):\n",
    "        # 소프트맥스 함수\n",
    "        z = np.clip(z, -100, None)            # 안전한 np.exp() 계산을 위해\n",
    "        exp_z = np.exp(z)\n",
    "        return exp_z / np.sum(exp_z, axis=1).reshape(-1, 1)\n",
    " \n",
    "    def init_weights(self, n_features, n_classes):\n",
    "        self.w1 = np.random.normal(0, 1, \n",
    "                                   (n_features, self.units))  # (특성 개수, 은닉층의 크기)\n",
    "        self.b1 = np.zeros(self.units)                        # 은닉층의 크기\n",
    "        self.w2 = np.random.normal(0, 1, \n",
    "                                   (self.units, n_classes))   # (은닉층의 크기, 클래스 개수)\n",
    "        self.b2 = np.zeros(n_classes)\n",
    "        \n",
    "    def fit(self, x, y, epochs=100, x_val=None, y_val=None):\n",
    "        np.random.seed(42)\n",
    "        self.init_weights(x.shape[1], y.shape[1])    # 은닉층과 출력층의 가중치를 초기화합니다.\n",
    "        # epochs만큼 반복합니다.\n",
    "        for i in range(epochs):\n",
    "            loss = 0\n",
    "            print('.', end='')\n",
    "            # 제너레이터 함수에서 반환한 미니배치를 순환합니다.\n",
    "            for x_batch, y_batch in self.gen_batch(x, y):\n",
    "                a = self.training(x_batch, y_batch)\n",
    "                # 안전한 로그 계산을 위해 클리핑합니다.\n",
    "                a = np.clip(a, 1e-10, 1-1e-10)\n",
    "                # 로그 손실과 규제 손실을 더하여 리스트에 추가합니다.\n",
    "                loss += np.sum(-y_batch*np.log(a))\n",
    "            self.losses.append((loss + self.reg_loss()) / len(x))\n",
    "            # 검증 세트에 대한 손실을 계산합니다.\n",
    "            self.update_val_loss(x_val, y_val)\n",
    "\n",
    "    # 미니배치 제너레이터 함수\n",
    "    def gen_batch(self, x, y):\n",
    "        length = len(x)\n",
    "        bins = length // self.batch_size # 미니배치 횟수\n",
    "        if length % self.batch_size:\n",
    "            bins += 1                    # 나누어 떨어지지 않을 때\n",
    "        indexes = np.random.permutation(np.arange(len(x))) # 인덱스를 섞습니다.\n",
    "        x = x[indexes]\n",
    "        y = y[indexes]\n",
    "        for i in range(bins):\n",
    "            start = self.batch_size * i\n",
    "            end = self.batch_size * (i + 1)\n",
    "            yield x[start:end], y[start:end]   # batch_size만큼 슬라이싱하여 반환합니다.\n",
    "            \n",
    "    def training(self, x, y):\n",
    "        m = len(x)                # 샘플 개수를 저장합니다.\n",
    "        z = self.forpass(x)       # 정방향 계산을 수행합니다.\n",
    "        a = self.softmax(z)       # 활성화 함수를 적용합니다.\n",
    "        err = -(y - a)            # 오차를 계산합니다.\n",
    "        # 오차를 역전파하여 그래디언트를 계산합니다.\n",
    "        w1_grad, b1_grad, w2_grad, b2_grad = self.backprop(x, err)\n",
    "        # 그래디언트에서 페널티 항의 미분 값을 뺍니다\n",
    "        w1_grad += (self.l1 * np.sign(self.w1) + self.l2 * self.w1) / m\n",
    "        w2_grad += (self.l1 * np.sign(self.w2) + self.l2 * self.w2) / m\n",
    "        # 은닉층의 가중치와 절편을 업데이트합니다.\n",
    "        self.w1 -= self.lr * w1_grad\n",
    "        self.b1 -= self.lr * b1_grad\n",
    "        # 출력층의 가중치와 절편을 업데이트합니다.\n",
    "        self.w2 -= self.lr * w2_grad\n",
    "        self.b2 -= self.lr * b2_grad\n",
    "        return a\n",
    "   \n",
    "    def predict(self, x):\n",
    "        z = self.forpass(x)          # 정방향 계산을 수행합니다.\n",
    "        return np.argmax(z, axis=1)  # 가장 큰 값의 인덱스를 반환합니다.\n",
    "    \n",
    "    def score(self, x, y):\n",
    "        # 예측과 타깃 열 벡터를 비교하여 True의 비율을 반환합니다.\n",
    "        return np.mean(self.predict(x) == np.argmax(y, axis=1))\n",
    "\n",
    "    def reg_loss(self):\n",
    "        # 은닉층과 출력층의 가중치에 규제를 적용합니다.\n",
    "        return self.l1 * (np.sum(np.abs(self.w1)) + np.sum(np.abs(self.w2))) + \\\n",
    "               self.l2 / 2 * (np.sum(self.w1**2) + np.sum(self.w2**2))\n",
    "\n",
    "    def update_val_loss(self, x_val, y_val):\n",
    "        z = self.forpass(x_val)            # 정방향 계산을 수행합니다.\n",
    "        a = self.softmax(z)                # 활성화 함수를 적용합니다.\n",
    "        a = np.clip(a, 1e-10, 1-1e-10)     # 출력 값을 클리핑합니다.\n",
    "        # 크로스 엔트로피 손실과 규제 손실을 더하여 리스트에 추가합니다.\n",
    "        \n",
    "        val_loss = np.sum(-y_val*np.log(a))\n",
    "        self.val_losses.append((val_loss + self.reg_loss()) / len(y_val))"
   ]
  },
  {
   "cell_type": "markdown",
   "metadata": {},
   "source": [
    "# 2. 의류 이미지 데이터 준비\n",
    "\n",
    "## 1. 텐서플로 임포트"
   ]
  },
  {
   "cell_type": "code",
   "execution_count": 4,
   "metadata": {},
   "outputs": [
    {
     "data": {
      "text/plain": [
       "'2.4.1'"
      ]
     },
     "execution_count": 4,
     "metadata": {},
     "output_type": "execute_result"
    }
   ],
   "source": [
    "import tensorflow as tf\n",
    "\n",
    "tf.__version__"
   ]
  },
  {
   "cell_type": "markdown",
   "metadata": {},
   "source": [
    "## 2. 데이터셋 불러오기"
   ]
  },
  {
   "cell_type": "code",
   "execution_count": 5,
   "metadata": {},
   "outputs": [
    {
     "name": "stdout",
     "output_type": "stream",
     "text": [
      "Downloading data from https://storage.googleapis.com/tensorflow/tf-keras-datasets/train-labels-idx1-ubyte.gz\n",
      "32768/29515 [=================================] - 0s 1us/step\n",
      "Downloading data from https://storage.googleapis.com/tensorflow/tf-keras-datasets/train-images-idx3-ubyte.gz\n",
      "26427392/26421880 [==============================] - 0s 0us/step\n",
      "Downloading data from https://storage.googleapis.com/tensorflow/tf-keras-datasets/t10k-labels-idx1-ubyte.gz\n",
      "8192/5148 [===============================================] - 0s 0us/step\n",
      "Downloading data from https://storage.googleapis.com/tensorflow/tf-keras-datasets/t10k-images-idx3-ubyte.gz\n",
      "4423680/4422102 [==============================] - 0s 0us/step\n"
     ]
    }
   ],
   "source": [
    "#4개 변수에 나누어서 담음\n",
    "\n",
    "(x_train_all , y_train_all), (x_test, y_test) = tf.keras.datasets.fashion_mnist.load_data()"
   ]
  },
  {
   "cell_type": "markdown",
   "metadata": {},
   "source": [
    "## 3. 훈련 세트의 크기 확인"
   ]
  },
  {
   "cell_type": "code",
   "execution_count": 6,
   "metadata": {},
   "outputs": [
    {
     "name": "stdout",
     "output_type": "stream",
     "text": [
      "(60000, 28, 28)  &&  (60000,)\n"
     ]
    }
   ],
   "source": [
    "# 28 X 28 크기 흑백이미지 60,000개 쌓여있음\n",
    "\n",
    "print(x_train_all.shape, \" && \",y_train_all.shape)"
   ]
  },
  {
   "cell_type": "markdown",
   "metadata": {},
   "source": [
    "## 4. imshow()함수로 샘플 이미지 확인"
   ]
  },
  {
   "cell_type": "code",
   "execution_count": 48,
   "metadata": {},
   "outputs": [
    {
     "data": {
      "image/png": "[encoded data removed]",
      "text/plain": [
       "<Figure size 432x288 with 1 Axes>"
      ]
     },
     "metadata": {
      "needs_background": "light"
     },
     "output_type": "display_data"
    }
   ],
   "source": [
    "import matplotlib.pyplot as plt\n",
    "\n",
    "#imshow 함수 넘파이 배열 입력 받아서 이미지 그림\n",
    "plt.imshow(x_train_all[59999], cmap='gray')\n",
    "#cmap 매개변수 기본 설정은 viridis이나\n",
    "# 패선MNIST는 흑백이미지 이므로 gray 로 지정\n",
    "\n",
    "plt.show()"
   ]
  },
  {
   "cell_type": "markdown",
   "metadata": {},
   "source": [
    "imshow는 원하는 크기의 행렬을 만들어서 각 칸을 원하는 색으로 채우는 것\n",
    "각 칸을 채우는 방법은 colormap, RGB, RGBA 의 네가지\n",
    "\n",
    "colormap 의 디폴트 값이 viridis 로 설정 시 \n",
    "viridis라는 colormap은 최솟값이 보라, 최댓값이 노랑"
   ]
  },
  {
   "cell_type": "code",
   "execution_count": 49,
   "metadata": {},
   "outputs": [
    {
     "data": {
      "image/png": "[encoded data removed]",
      "text/plain": [
       "<Figure size 432x288 with 1 Axes>"
      ]
     },
     "metadata": {
      "needs_background": "light"
     },
     "output_type": "display_data"
    }
   ],
   "source": [
    "plt.imshow(x_train_all[100])\n",
    "#cmap 매개변수 기본 설정은 viridis이나\n",
    "# 패선MNIST는 흑백이미지 이므로 gray 로 지정\n",
    "\n",
    "plt.show()"
   ]
  },
  {
   "cell_type": "markdown",
   "metadata": {},
   "source": [
    "## 5. 타깃의 내용과 의미 확인하기"
   ]
  },
  {
   "cell_type": "code",
   "execution_count": 9,
   "metadata": {},
   "outputs": [],
   "source": [
    "#원소가 어떤레이블 의미하는지 숫자가 아닌 이름으로 나옴\n",
    "\n",
    "class_names = ['티셔츠/윗도리', '바지', '스웨터', '드레스', '코트', \n",
    "               '샌들', '셔츠', '스니커즈', '가방', '앵클부츠']\n"
   ]
  },
  {
   "cell_type": "code",
   "execution_count": 51,
   "metadata": {},
   "outputs": [
    {
     "name": "stdout",
     "output_type": "stream",
     "text": [
      "[9 0 0 3 0 2 7 2 5 5]\n"
     ]
    }
   ],
   "source": [
    "print(y_train_all[0:10])"
   ]
  },
  {
   "cell_type": "code",
   "execution_count": 11,
   "metadata": {},
   "outputs": [
    {
     "name": "stdout",
     "output_type": "stream",
     "text": [
      "앵클부츠\n",
      "티셔츠/윗도리\n",
      "티셔츠/윗도리\n",
      "드레스\n",
      "티셔츠/윗도리\n",
      "스웨터\n",
      "스니커즈\n",
      "스웨터\n",
      "샌들\n",
      "샌들\n"
     ]
    }
   ],
   "source": [
    "for i in range(10):\n",
    "    \n",
    "    print(class_names[y_train_all[i]])"
   ]
  },
  {
   "cell_type": "markdown",
   "metadata": {},
   "source": [
    "## 6. 타깃의 분포 확인하기"
   ]
  },
  {
   "cell_type": "code",
   "execution_count": 12,
   "metadata": {},
   "outputs": [
    {
     "data": {
      "text/plain": [
       "array([6000, 6000, 6000, 6000, 6000, 6000, 6000, 6000, 6000, 6000])"
      ]
     },
     "execution_count": 12,
     "metadata": {},
     "output_type": "execute_result"
    }
   ],
   "source": [
    "#분포가 고르게 됐는지 확인하기\n",
    "\n",
    "#넘파이 bincount()함수 이용 시\n",
    "#배열에 있는 정수값의 등장횟수를 세어,  정수값에 해당하는 인덱스 위치에 저장합니다\n",
    "np.bincount(y_train_all)"
   ]
  },
  {
   "cell_type": "markdown",
   "metadata": {},
   "source": [
    "## 7. 훈련 세트와 검증 세트 고르게 나누기"
   ]
  },
  {
   "cell_type": "code",
   "execution_count": 13,
   "metadata": {},
   "outputs": [],
   "source": [
    "from sklearn.model_selection import train_test_split\n",
    "\n",
    "#val 추가하여 오버피팅 방지\n",
    "x_train, x_val, y_train, y_val = train_test_split(x_train_all, y_train_all, \n",
    "\n",
    "stratify = y_train_all, test_size = 0.2, random_state = 42 )\n",
    "#test_size는 테스트 셋 구성의 비율 나타냄\n",
    "#전체 데이터 셋의 20%를 test셋으로 지정 \n",
    "# 디폴트는 0.25\n",
    "\n",
    "#stratify 는 분류 다룰 때 중요한 옵션 값\n",
    "#target 인 y_train_all 으로 지정하면 class비율을 train/val 에 유지 해줌 (즉 한쪽에 쏠려서 분배되는 것 방지함)\n",
    "\n",
    "#random_state는 세트를 섞을 때 해당 int값을 섞으며, 하이퍼 튜닝시 값 고정해두고 튜닝하면\n",
    "#매번 데이터 셋 변경된느 것 방지 가능"
   ]
  },
  {
   "cell_type": "code",
   "execution_count": 14,
   "metadata": {},
   "outputs": [
    {
     "name": "stdout",
     "output_type": "stream",
     "text": [
      "[4800 4800 4800 4800 4800 4800 4800 4800 4800 4800]\n",
      "[1200 1200 1200 1200 1200 1200 1200 1200 1200 1200]\n"
     ]
    }
   ],
   "source": [
    "#훈련, 검증 세트 레이블 잘 나누어졌는지 확인\n",
    "\n",
    "print(np.bincount(y_train))\n",
    "print(np.bincount(y_val))\n",
    "\n",
    "#같은 비율로 나누어짐"
   ]
  },
  {
   "cell_type": "markdown",
   "metadata": {},
   "source": [
    "## 8. 입력데이터 정규화 하기"
   ]
  },
  {
   "cell_type": "code",
   "execution_count": 15,
   "metadata": {},
   "outputs": [
    {
     "name": "stdout",
     "output_type": "stream",
     "text": [
      "(48000, 28, 28)\n",
      "(12000, 28, 28)\n"
     ]
    }
   ],
   "source": [
    "# 유방암 데이터와 마찬가지로 \n",
    "# 픽셀마다 0~255 사이 값 가진다 \n",
    "# 이 값을 255로 나누어 0~1사이로 맞춰준다\n",
    "\n",
    "x_train = x_train / 255\n",
    "x_val = x_val / 255\n",
    "\n",
    "print(x_train.shape)\n",
    "print(x_val.shape)"
   ]
  },
  {
   "cell_type": "markdown",
   "metadata": {},
   "source": [
    "## 9. 훈련세트, 검증 세트의 차원 변경하기"
   ]
  },
  {
   "cell_type": "code",
   "execution_count": 16,
   "metadata": {},
   "outputs": [
    {
     "name": "stdout",
     "output_type": "stream",
     "text": [
      "2차원 배열에서 1차원 배열로 바꿈\n",
      "(48000, 784) (12000, 784)\n"
     ]
    }
   ],
   "source": [
    "# 데이터 셋 은 28 X 28 크기 2차원 배열임\n",
    "# MultiClassNetwor는 1차원 배열 샘플 기대함\n",
    "\n",
    "# 넘파이 배열의 reshape() 메서드 사용하여 \n",
    "# 훈련세으톼 검증세트의 두번째 세번째 차원을 합친 다음 784길이 (28 * 28)로 펼침\n",
    "\n",
    "# 즉 이미지의 픽셀을 풀어 1줄로 이어 붙임\n",
    "\n",
    "x_train = x_train.reshape(-1, 784)\n",
    "x_val = x_val.reshape(-1, 784)\n",
    "\n",
    "print(\"2차원 배열에서 1차원 배열로 바꿈\")\n",
    "print(x_train.shape, x_val.shape)\n"
   ]
  },
  {
   "cell_type": "markdown",
   "metadata": {},
   "source": [
    "# 챕터 2 퀴즈\n",
    "\n",
    "- 패션 데이터 세트는 __차원 배열이며, 각 샘플은 __차원 배열입니다\n",
    "- 패션 데이터 세트는 샘플에 저장되어있는 값은 ____이다"
   ]
  },
  {
   "cell_type": "code",
   "execution_count": null,
   "metadata": {},
   "outputs": [],
   "source": []
  },
  {
   "cell_type": "markdown",
   "metadata": {},
   "source": [
    "# 3. 타깃 데이터 준비, 다중분류 신경망훈련|"
   ]
  },
  {
   "cell_type": "markdown",
   "metadata": {},
   "source": [
    "## 1. 원핫 인코딩 이용"
   ]
  },
  {
   "cell_type": "code",
   "execution_count": 17,
   "metadata": {},
   "outputs": [],
   "source": [
    "# 신경망 출력, 타깃값 비교하려면\n",
    "# 타깃값 출력층 10개 뉴런에 대응하는 배열이어야 함\n",
    "\n",
    "#y_train, y_val 에 저장된 값들 1~9사이 1개 정수값으로 10개 뉴런 대응되지 않음\n",
    "\n",
    "#따라서 원-핫 인코딩 이용함\n",
    "\n",
    "#텐서플로 to_categorical() 함수 이용"
   ]
  },
  {
   "cell_type": "markdown",
   "metadata": {},
   "source": [
    "## 2. to_categorical() 함수 이용"
   ]
  },
  {
   "cell_type": "code",
   "execution_count": 52,
   "metadata": {},
   "outputs": [
    {
     "name": "stdout",
     "output_type": "stream",
     "text": [
      "[[1. 0. 0. 0.]\n",
      " [0. 1. 0. 0.]\n",
      " [0. 0. 0. 1.]]\n"
     ]
    },
    {
     "data": {
      "text/plain": [
       "array([[0., 1.],\n",
       "       [0., 1.],\n",
       "       [0., 1.],\n",
       "       [0., 1.],\n",
       "       [0., 1.],\n",
       "       [1., 0.],\n",
       "       [1., 0.],\n",
       "       [1., 0.]], dtype=float32)"
      ]
     },
     "execution_count": 52,
     "metadata": {},
     "output_type": "execute_result"
    }
   ],
   "source": [
    "# 샘플\n",
    "\n",
    "print(tf.keras.utils.to_categorical([0,1,3]))\n",
    "\n",
    "tf.keras.utils.to_categorical([0,1,3,4,5,6,4,2,3,])\n",
    "\n",
    "tf.keras.utils.to_categorical([1,1,1,1,1,0,0,0])\n",
    "\n",
    "#하지만 to_categorical 함수는 문자열로 된 레이블은 인코딩 하지 못함\n",
    "#그러나 의류 데이터셋은 정수배열이므로 to_categorical함수 이용가능\n"
   ]
  },
  {
   "cell_type": "code",
   "execution_count": 19,
   "metadata": {},
   "outputs": [
    {
     "name": "stdout",
     "output_type": "stream",
     "text": [
      "(48000,) (12000,)\n"
     ]
    }
   ],
   "source": [
    "#변환 전  크기 출력\n",
    "\n",
    "print(y_train.shape, y_val.shape)"
   ]
  },
  {
   "cell_type": "code",
   "execution_count": 20,
   "metadata": {},
   "outputs": [],
   "source": [
    "y_train_encoded = tf.keras.utils.to_categorical(y_train)\n",
    "y_val_encoded = tf.keras.utils.to_categorical(y_val)"
   ]
  },
  {
   "cell_type": "code",
   "execution_count": 21,
   "metadata": {},
   "outputs": [
    {
     "name": "stdout",
     "output_type": "stream",
     "text": [
      "(48000, 10) (12000, 10)\n",
      "전 :  6 \n",
      "후 :  [0. 0. 0. 0. 0. 0. 1. 0. 0. 0.]\n"
     ]
    }
   ],
   "source": [
    "#변환 된 원-핫 인코딩 배열 크기 출력\n",
    "\n",
    "print(y_train_encoded.shape, y_val_encoded.shape)\n",
    "\n",
    "\n",
    "print(\"전 : \", y_train[0], \"\\n후 : \",y_train_encoded[0])\n",
    "\n",
    "#6번째에 원소 위치에 원-핫 인코딩 됨"
   ]
  },
  {
   "cell_type": "markdown",
   "metadata": {},
   "source": [
    "## 4. multiClassNetwork클래스로 다중분류 신경망 만들기"
   ]
  },
  {
   "cell_type": "code",
   "execution_count": 22,
   "metadata": {},
   "outputs": [
    {
     "name": "stdout",
     "output_type": "stream",
     "text": [
      "........................................"
     ]
    }
   ],
   "source": [
    "# 신경망 40번의 에포크동안 훈련하기\n",
    "\n",
    "fc = MultiClassNetwork(units=100, batch_size=256)\n",
    "fc.fit(x_train, y_train_encoded,\n",
    "       x_val = x_val, y_val= y_val_encoded, epochs =40)"
   ]
  },
  {
   "cell_type": "code",
   "execution_count": 23,
   "metadata": {},
   "outputs": [
    {
     "data": {
      "image/png": "[encoded data removed]",
      "text/plain": [
       "<Figure size 432x288 with 1 Axes>"
      ]
     },
     "metadata": {
      "needs_background": "light"
     },
     "output_type": "display_data"
    }
   ],
   "source": [
    "plt.plot(fc.losses)\n",
    "plt.plot(fc.val_losses)\n",
    "plt.ylabel('loss')\n",
    "plt.xlabel('iteration')\n",
    "plt.legend(['train_loss', 'val_loss'])\n",
    "plt.show()\n",
    "\n",
    "# 그래프 초기에 빠르게 감소하다가 이후 완만하게 수렴"
   ]
  },
  {
   "cell_type": "code",
   "execution_count": 24,
   "metadata": {},
   "outputs": [
    {
     "data": {
      "text/plain": [
       "0.8150833333333334"
      ]
     },
     "execution_count": 24,
     "metadata": {},
     "output_type": "execute_result"
    }
   ],
   "source": [
    "# 전체 검증세트 이용해서 모델 잘 훈련정도 점수 확인\n",
    "fc.score(x_val, y_val_encoded)\n",
    "\n",
    "# 모델의 정확도는 81% 무작위로 의류 이미지 예측하면 10%정확도 기대할수 있으므로 더 높은점수임\n",
    "\n",
    "#그러나 오차 19%는 실전에서 사용하기 어려움으로 텐서플로 이용필요"
   ]
  },
  {
   "cell_type": "markdown",
   "metadata": {},
   "source": [
    "# 챕터 3 퀴즈\n",
    "\n",
    "- 패션 데이터셋의 타깃에는 ___사이 __값이 들어있다\n",
    "- 다중 분류 신경망의 출력 뉴런 개수의 맞게 타깃을 ______하여 __개의 배열로 변환했다."
   ]
  },
  {
   "cell_type": "markdown",
   "metadata": {},
   "source": [
    "# 4. 케라스 사용해서 신경망을 만듬 (소개)"
   ]
  },
  {
   "cell_type": "markdown",
   "metadata": {},
   "source": []
  },
  {
   "cell_type": "markdown",
   "metadata": {},
   "source": [
    "케라스 인공신경망 만들기 위해 Sequential 클래스, 완전 연결을 위한 Dense 클래스 제공\n",
    "\n",
    "- Sequential 클래스 란 순차적으로 층을 쌓은 신경망이고\n",
    "- Dense 클래스 란 모델에 포함된 완전 연결층을 의미함\n",
    "\n",
    "'직관적으로 인공신경망의 층을 설계' 하는 것이 장점\n",
    "\n",
    "- MultiClassNetwork 와의 차이점은\n",
    "1. 케라스는 모델과 층이 명확하게 구분됨\n",
    "2. 층 하나를 다른 층으로 교체하기도 쉬움\n",
    "\n"
   ]
  },
  {
   "cell_type": "markdown",
   "metadata": {},
   "source": [
    "## 1. Sequential 클래스 사용방법\n",
    "\n"
   ]
  },
  {
   "cell_type": "markdown",
   "metadata": {},
   "source": [
    "#### 1. Sequential 객체에 층을 추가"
   ]
  },
  {
   "cell_type": "code",
   "execution_count": 25,
   "metadata": {},
   "outputs": [],
   "source": [
    "from tensorflow.keras import Sequential\n",
    "from tensorflow.keras.layers import Dense\n",
    "\n",
    "model = Sequential()"
   ]
  },
  {
   "cell_type": "markdown",
   "metadata": {},
   "source": [
    "#### 2. add()메소드 사용해 층 추가"
   ]
  },
  {
   "cell_type": "code",
   "execution_count": null,
   "metadata": {},
   "outputs": [],
   "source": [
    "dense = Dense()\n",
    "model.add(dense)"
   ]
  },
  {
   "cell_type": "code",
   "execution_count": 27,
   "metadata": {},
   "outputs": [],
   "source": [
    "#매번 Dense클래스 객체 변수에 할당해서\n",
    "# add()메서드로 전달하는 일 번거로움\n",
    "# 아래와 같이 Dense클래스의 객체를 만들자 마자 전달 가능\n",
    "\n",
    "model = Sequential()\n",
    "\n",
    "model.add(Dense())\n",
    "model.add(Dense())\n",
    "model.add(Dense())\n",
    "model.add(Dense())\n",
    "model.add(Dense())"
   ]
  },
  {
   "cell_type": "markdown",
   "metadata": {},
   "source": [
    "## 2. Dense 클래스 사용방법"
   ]
  },
  {
   "cell_type": "code",
   "execution_count": null,
   "metadata": {},
   "outputs": [],
   "source": [
    "# 1.뉴런의 개수를 지정하는 매개변수 unit (하이퍼파라미터 임)\n",
    "\n",
    "Dense(units=100)\n",
    "\n",
    "# 2. 활성화 함수를 지정하는 매개변수 activation\n",
    "#기본값은 none상태임\n",
    "\n",
    "Dense(units=100, activation='sigmoid')"
   ]
  },
  {
   "cell_type": "markdown",
   "metadata": {},
   "source": [
    "## 3. 모델의 최적화 알고리즘과 손실함수 설정"
   ]
  },
  {
   "cell_type": "code",
   "execution_count": null,
   "metadata": {},
   "outputs": [],
   "source": [
    "# 다중분류의 최적화 알고리즘은 경사하강법 알고리즘 이용\n",
    "# 다중분류의 손실함수는 크로스엔트로피 손실함수 사용\n",
    "\n",
    "\n",
    "# 최적화 알고리즘은 매개변수 optimizer 사용\n",
    "# optimize = 'sgd' 지정 시 기본 경사 하강법을 최적화 알고리즘으로 사용\n",
    "model.compile(optimizer = 'sgd')\n",
    "\n"
   ]
  },
  {
   "cell_type": "code",
   "execution_count": null,
   "metadata": {},
   "outputs": [],
   "source": [
    "model.compile(optimizer='sgd', loss='categorical_crossentropy')"
   ]
  },
  {
   "cell_type": "markdown",
   "metadata": {},
   "source": [
    "## 4. 모델을 훈련하고 에측함 "
   ]
  },
  {
   "cell_type": "code",
   "execution_count": null,
   "metadata": {},
   "outputs": [],
   "source": [
    "# 레이어 선언\n",
    "model = Sequential()\n",
    "model.add(Dense())\n",
    "model.add(Dense())\n",
    "\n",
    "# 최적과 알고리즘, 손실함수 설정\n",
    "model.compile(optimize=' ', loss = '  ')\n",
    "\n",
    "# 모델 훈련하고 예측 그리고 평가\n",
    "model.fit(X, y , epochs = )\n",
    "model.predict(X)\n",
    "model.evalute(X, y)\n",
    "\n"
   ]
  },
  {
   "cell_type": "markdown",
   "metadata": {},
   "source": [
    "# 5. 케라스로 다중분류 신경망 만들기"
   ]
  },
  {
   "cell_type": "markdown",
   "metadata": {},
   "source": [
    "## 1. 모델생성하기"
   ]
  },
  {
   "cell_type": "code",
   "execution_count": 28,
   "metadata": {},
   "outputs": [],
   "source": [
    "from tensorflow.keras import Sequential\n",
    "from tensorflow.keras.layers import Dense\n",
    "\n",
    "# model 객체 선언\n",
    "model = Sequential()"
   ]
  },
  {
   "cell_type": "markdown",
   "metadata": {},
   "source": [
    "## 2. 은닉층과 출력층을 모델에 추가하기\n",
    "\n"
   ]
  },
  {
   "cell_type": "code",
   "execution_count": 53,
   "metadata": {},
   "outputs": [],
   "source": [
    "# 은닉층 유닛 개수 100개\n",
    "# 은닉층 활성화 함수 시그모이드 함수\n",
    "\n",
    "# 이때 input_shape 매개변수에 입력데이터 크기 지정해야한다\n",
    "# 28 28 크기 이미지 일렬로 펼쳤으므로 784이다\n",
    "# 신경망 구성할 때 샘플의 개수는 필요하지 않음\n",
    "model.add(Dense(100, activation='sigmoid', input_shape=(784,)))\n",
    "model.add(Dense(100, activation='sigmoid', input_shape=(784,)))\n",
    "model.add(Dense(100, activation='sigmoid', input_shape=(784,)))\n",
    "model.add(Dense(100, activation='sigmoid', input_shape=(784,)))\n",
    "\n",
    "# 출력층 유닛 개수 10개\n",
    "# 출력층 활성호 함수 소프트맥수 함수\n",
    "model.add(Dense(10, activation='softmax'))"
   ]
  },
  {
   "cell_type": "markdown",
   "metadata": {},
   "source": [
    "## 3. 최적화 알고리즘과 손실함수 지정하기"
   ]
  },
  {
   "cell_type": "code",
   "execution_count": 54,
   "metadata": {},
   "outputs": [],
   "source": [
    "#다중 분류문제 해결해야함\n",
    "# 최적화 알고리즘 선택 adam, sgd, rmsprop, adagrad 등\n",
    "# 손실함수 선택 mse, categorical_crossentropy, binary_crossentropy \n",
    "\n",
    "# metrics 매개변수는 훈련 과정 기록으로 정확도를 남기기 위해 추가한 것\n",
    "# metrics 매개변수에 accuracy추가해서 모델의 정확도에 대한 기록도 살펴 봄\n",
    "# 분류에서는 accuracy, 회귀에서는 mse, rmse, r2, mae, mspe, mape, msle 등\n",
    "\n",
    "model.compile(optimizer='sgd', loss='categorical_crossentropy', metrics=['accuracy'])"
   ]
  },
  {
   "cell_type": "code",
   "execution_count": 55,
   "metadata": {},
   "outputs": [
    {
     "name": "stdout",
     "output_type": "stream",
     "text": [
      "Model에 추가된 Layer 개수:  7\n",
      "Model: \"sequential_1\"\n",
      "_________________________________________________________________\n",
      "Layer (type)                 Output Shape              Param #   \n",
      "=================================================================\n",
      "dense (Dense)                (None, 100)               78500     \n",
      "_________________________________________________________________\n",
      "dense_1 (Dense)              (None, 10)                1010      \n",
      "_________________________________________________________________\n",
      "dense_2 (Dense)              (None, 100)               1100      \n",
      "_________________________________________________________________\n",
      "dense_3 (Dense)              (None, 100)               10100     \n",
      "_________________________________________________________________\n",
      "dense_4 (Dense)              (None, 100)               10100     \n",
      "_________________________________________________________________\n",
      "dense_5 (Dense)              (None, 100)               10100     \n",
      "_________________________________________________________________\n",
      "dense_6 (Dense)              (None, 10)                1010      \n",
      "=================================================================\n",
      "Total params: 111,920\n",
      "Trainable params: 111,920\n",
      "Non-trainable params: 0\n",
      "_________________________________________________________________\n"
     ]
    }
   ],
   "source": [
    "print('Model에 추가된 Layer 개수: ', len(model.layers))\n",
    "\n",
    "model.summary()"
   ]
  },
  {
   "cell_type": "code",
   "execution_count": 32,
   "metadata": {},
   "outputs": [
    {
     "name": "stdout",
     "output_type": "stream",
     "text": [
      "Epoch 1/40\n",
      "1500/1500 [==============================] - 4s 2ms/step - loss: 1.7150 - accuracy: 0.5438 - val_loss: 0.9582 - val_accuracy: 0.7327\n",
      "Epoch 2/40\n",
      "1500/1500 [==============================] - 3s 2ms/step - loss: 0.8928 - accuracy: 0.7389 - val_loss: 0.7452 - val_accuracy: 0.7618\n",
      "Epoch 3/40\n",
      "1500/1500 [==============================] - 3s 2ms/step - loss: 0.7288 - accuracy: 0.7629 - val_loss: 0.6602 - val_accuracy: 0.7797\n",
      "Epoch 4/40\n",
      "1500/1500 [==============================] - 3s 2ms/step - loss: 0.6477 - accuracy: 0.7815 - val_loss: 0.6111 - val_accuracy: 0.7922\n",
      "Epoch 5/40\n",
      "1500/1500 [==============================] - 3s 2ms/step - loss: 0.6106 - accuracy: 0.7899 - val_loss: 0.5756 - val_accuracy: 0.8039\n",
      "Epoch 6/40\n",
      "1500/1500 [==============================] - 3s 2ms/step - loss: 0.5781 - accuracy: 0.8018 - val_loss: 0.5502 - val_accuracy: 0.8114\n",
      "Epoch 7/40\n",
      "1500/1500 [==============================] - 3s 2ms/step - loss: 0.5559 - accuracy: 0.8080 - val_loss: 0.5298 - val_accuracy: 0.8173\n",
      "Epoch 8/40\n",
      "1500/1500 [==============================] - 3s 2ms/step - loss: 0.5360 - accuracy: 0.8169 - val_loss: 0.5144 - val_accuracy: 0.8206\n",
      "Epoch 9/40\n",
      "1500/1500 [==============================] - 3s 2ms/step - loss: 0.5247 - accuracy: 0.8186 - val_loss: 0.4997 - val_accuracy: 0.8248\n",
      "Epoch 10/40\n",
      "1500/1500 [==============================] - 3s 2ms/step - loss: 0.5110 - accuracy: 0.8240 - val_loss: 0.4885 - val_accuracy: 0.8291\n",
      "Epoch 11/40\n",
      "1500/1500 [==============================] - 3s 2ms/step - loss: 0.4959 - accuracy: 0.8309 - val_loss: 0.4806 - val_accuracy: 0.8303\n",
      "Epoch 12/40\n",
      "1500/1500 [==============================] - 3s 2ms/step - loss: 0.4918 - accuracy: 0.8306 - val_loss: 0.4711 - val_accuracy: 0.8352\n",
      "Epoch 13/40\n",
      "1500/1500 [==============================] - 3s 2ms/step - loss: 0.4814 - accuracy: 0.8334 - val_loss: 0.4653 - val_accuracy: 0.8359\n",
      "Epoch 14/40\n",
      "1500/1500 [==============================] - 3s 2ms/step - loss: 0.4756 - accuracy: 0.8342 - val_loss: 0.4595 - val_accuracy: 0.8382\n",
      "Epoch 15/40\n",
      "1500/1500 [==============================] - 3s 2ms/step - loss: 0.4680 - accuracy: 0.8367 - val_loss: 0.4541 - val_accuracy: 0.8407\n",
      "Epoch 16/40\n",
      "1500/1500 [==============================] - 3s 2ms/step - loss: 0.4619 - accuracy: 0.8383 - val_loss: 0.4479 - val_accuracy: 0.8434\n",
      "Epoch 17/40\n",
      "1500/1500 [==============================] - 3s 2ms/step - loss: 0.4574 - accuracy: 0.8383 - val_loss: 0.4434 - val_accuracy: 0.8427\n",
      "Epoch 18/40\n",
      "1500/1500 [==============================] - 3s 2ms/step - loss: 0.4530 - accuracy: 0.8428 - val_loss: 0.4384 - val_accuracy: 0.8464\n",
      "Epoch 19/40\n",
      "1500/1500 [==============================] - 3s 2ms/step - loss: 0.4408 - accuracy: 0.8432 - val_loss: 0.4349 - val_accuracy: 0.8482\n",
      "Epoch 20/40\n",
      "1500/1500 [==============================] - 3s 2ms/step - loss: 0.4449 - accuracy: 0.8452 - val_loss: 0.4318 - val_accuracy: 0.8466\n",
      "Epoch 21/40\n",
      "1500/1500 [==============================] - 3s 2ms/step - loss: 0.4367 - accuracy: 0.8453 - val_loss: 0.4273 - val_accuracy: 0.8516\n",
      "Epoch 22/40\n",
      "1500/1500 [==============================] - 3s 2ms/step - loss: 0.4337 - accuracy: 0.8507 - val_loss: 0.4258 - val_accuracy: 0.8510\n",
      "Epoch 23/40\n",
      "1500/1500 [==============================] - 3s 2ms/step - loss: 0.4274 - accuracy: 0.8499 - val_loss: 0.4219 - val_accuracy: 0.8532\n",
      "Epoch 24/40\n",
      "1500/1500 [==============================] - 3s 2ms/step - loss: 0.4255 - accuracy: 0.8535 - val_loss: 0.4198 - val_accuracy: 0.8516\n",
      "Epoch 25/40\n",
      "1500/1500 [==============================] - 3s 2ms/step - loss: 0.4188 - accuracy: 0.8530 - val_loss: 0.4171 - val_accuracy: 0.8532\n",
      "Epoch 26/40\n",
      "1500/1500 [==============================] - 3s 2ms/step - loss: 0.4212 - accuracy: 0.8525 - val_loss: 0.4133 - val_accuracy: 0.8543\n",
      "Epoch 27/40\n",
      "1500/1500 [==============================] - 3s 2ms/step - loss: 0.4194 - accuracy: 0.8521 - val_loss: 0.4121 - val_accuracy: 0.8547\n",
      "Epoch 28/40\n",
      "1500/1500 [==============================] - 3s 2ms/step - loss: 0.4163 - accuracy: 0.8540 - val_loss: 0.4091 - val_accuracy: 0.8553\n",
      "Epoch 29/40\n",
      "1500/1500 [==============================] - 3s 2ms/step - loss: 0.4057 - accuracy: 0.8570 - val_loss: 0.4068 - val_accuracy: 0.8567\n",
      "Epoch 30/40\n",
      "1500/1500 [==============================] - 3s 2ms/step - loss: 0.4106 - accuracy: 0.8572 - val_loss: 0.4052 - val_accuracy: 0.8577\n",
      "Epoch 31/40\n",
      "1500/1500 [==============================] - 3s 2ms/step - loss: 0.4086 - accuracy: 0.8554 - val_loss: 0.4028 - val_accuracy: 0.8582\n",
      "Epoch 32/40\n",
      "1500/1500 [==============================] - 3s 2ms/step - loss: 0.4074 - accuracy: 0.8555 - val_loss: 0.4033 - val_accuracy: 0.8562\n",
      "Epoch 33/40\n",
      "1500/1500 [==============================] - 3s 2ms/step - loss: 0.4078 - accuracy: 0.8561 - val_loss: 0.3996 - val_accuracy: 0.8563\n",
      "Epoch 34/40\n",
      "1500/1500 [==============================] - 3s 2ms/step - loss: 0.3962 - accuracy: 0.8614 - val_loss: 0.3986 - val_accuracy: 0.8600\n",
      "Epoch 35/40\n",
      "1500/1500 [==============================] - 3s 2ms/step - loss: 0.3972 - accuracy: 0.8586 - val_loss: 0.3986 - val_accuracy: 0.8602\n",
      "Epoch 36/40\n",
      "1500/1500 [==============================] - 3s 2ms/step - loss: 0.3997 - accuracy: 0.8606 - val_loss: 0.3951 - val_accuracy: 0.8597\n",
      "Epoch 37/40\n",
      "1500/1500 [==============================] - 3s 2ms/step - loss: 0.3978 - accuracy: 0.8598 - val_loss: 0.3943 - val_accuracy: 0.8594\n",
      "Epoch 38/40\n",
      "1500/1500 [==============================] - 3s 2ms/step - loss: 0.3932 - accuracy: 0.8613 - val_loss: 0.3946 - val_accuracy: 0.8598\n",
      "Epoch 39/40\n",
      "1500/1500 [==============================] - 3s 2ms/step - loss: 0.3914 - accuracy: 0.8607 - val_loss: 0.3914 - val_accuracy: 0.8608\n",
      "Epoch 40/40\n",
      "1500/1500 [==============================] - 3s 2ms/step - loss: 0.3931 - accuracy: 0.8619 - val_loss: 0.3887 - val_accuracy: 0.8620\n"
     ]
    }
   ],
   "source": [
    "# fit() 매서드 통해서 모델을 40번의 에포크동안 훈련함\n",
    "# 훈련하는 동안 기록한 정보를 [History클래스 객체]에 담아서 반환 함\n",
    "# 반환 값 [history 변수]에 저장\n",
    "\n",
    "# validation_data 매게변수에 검증 셋트 튜플로 전달 함\n",
    "\n",
    "\n",
    "history = model.fit(x_train, y_train_encoded, epochs=40,\n",
    "                    validation_data = (x_val, y_val_encoded) )"
   ]
  },
  {
   "cell_type": "markdown",
   "metadata": {},
   "source": []
  },
  {
   "cell_type": "markdown",
   "metadata": {},
   "source": [
    "## 4. 손실과 정확도 그래프 그리기\n",
    "\n"
   ]
  },
  {
   "cell_type": "code",
   "execution_count": 35,
   "metadata": {},
   "outputs": [
    {
     "name": "stdout",
     "output_type": "stream",
     "text": [
      "dict_keys(['loss', 'accuracy', 'val_loss', 'val_accuracy'])\n"
     ]
    }
   ],
   "source": [
    "# history 객체의 history 딕셔너리 여러 측정 지표가 있음\n",
    "\n",
    "print(history.history.keys())\n",
    "\n",
    "#크게 훈련세트와 검증세트의 손실과 정확도를 나타냄"
   ]
  },
  {
   "cell_type": "code",
   "execution_count": 38,
   "metadata": {},
   "outputs": [
    {
     "data": {
      "image/png": "[encoded data removed]",
      "text/plain": [
       "<Figure size 432x288 with 1 Axes>"
      ]
     },
     "metadata": {
      "needs_background": "light"
     },
     "output_type": "display_data"
    }
   ],
   "source": [
    "plt.plot(history.history['loss'])\n",
    "plt.plot(history.history['val_loss'])\n",
    "\n",
    "plt.ylabel('loss')\n",
    "plt.xlabel('epochs')\n",
    "\n",
    "plt.legend(['train_loss', 'val_loss'])\n",
    "plt.show()"
   ]
  },
  {
   "cell_type": "code",
   "execution_count": 39,
   "metadata": {},
   "outputs": [
    {
     "data": {
      "image/png": "[encoded data removed]",
      "text/plain": [
       "<Figure size 432x288 with 1 Axes>"
      ]
     },
     "metadata": {
      "needs_background": "light"
     },
     "output_type": "display_data"
    }
   ],
   "source": [
    "plt.plot(history.history['accuracy'])\n",
    "plt.plot(history.history['val_accuracy'])\n",
    "\n",
    "plt.ylabel('accuracy')\n",
    "plt.xlabel('epochs')\n",
    "\n",
    "plt.legend(['train_accuracy', 'val_accuracy'])\n",
    "plt.show()"
   ]
  },
  {
   "cell_type": "markdown",
   "metadata": {},
   "source": []
  },
  {
   "cell_type": "markdown",
   "metadata": {},
   "source": [
    "## 5. 검증세트 정확도 계산"
   ]
  },
  {
   "cell_type": "code",
   "execution_count": 43,
   "metadata": {},
   "outputs": [
    {
     "name": "stdout",
     "output_type": "stream",
     "text": [
      "정확도 :  0.8619999885559082\n"
     ]
    }
   ],
   "source": [
    "# evaluate 메서드 사용하면 손실값, \n",
    "\n",
    "loss, accuracy = model.evaluate(x_val, y_val_encoded, verbose=0)\n",
    "print(\"정확도 : \", accuracy)\n",
    "\n",
    "# 정확도 86% 케라스 이용하면 더 '좋은 성능'과 '간단한 방법'으로 다중 분류 신경망 구현\n",
    "\n",
    "# 그러나 뛰어나게 좋지 않은 이유는 케라스 성능이 나쁜것이 아니라\n",
    "# 이미지 데이터에 잘 맞는 모델이 아니기 때문\n",
    "\n",
    "# 합성곱 신경망에 대해서 살펴 볼 예정 (CNN!!!!!! 개봉박두!!!!!!!!!!!!!!!!!!!!)\n",
    "재밌쥬???"
   ]
  },
  {
   "cell_type": "markdown",
   "metadata": {},
   "source": [
    "https://www.ted.com/talks/fei_fei_li_how_we_re_teaching_computers_to_understand_pictures?language=ko"
   ]
  },
  {
   "cell_type": "markdown",
   "metadata": {},
   "source": [
    "# 챕터 4 퀴즈\n",
    "- ___는 테서플로 비롯한 여러 딥러닝 패키지 쉽게 사용하도록 만들어진 래퍼 패치키지 이다.\n",
    "- 케라스는 ____클래스로 신경망을 구현하고, ___클래스로 층을 구현한다"
   ]
  },
  {
   "cell_type": "markdown",
   "metadata": {},
   "source": [
    "# "
   ]
  }
 ],
 "metadata": {
  "kernelspec": {
   "display_name": "Python 3",
   "language": "python",
   "name": "python3"
  },
  "language_info": {
   "codemirror_mode": {
    "name": "ipython",
    "version": 3
   },
   "file_extension": ".py",
   "mimetype": "text/x-python",
   "name": "python",
   "nbconvert_exporter": "python",
   "pygments_lexer": "ipython3",
   "version": "3.7.9"
  }
 },
 "nbformat": 4,
 "nbformat_minor": 2
}
