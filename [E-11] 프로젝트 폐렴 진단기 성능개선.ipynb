{
 "cells": [
  {
   "cell_type": "markdown",
   "id": "reported-spouse",
   "metadata": {},
   "source": [
    "# 프로젝트 : 폐렴 진단기 성능개선"
   ]
  },
  {
   "cell_type": "markdown",
   "id": "fixed-rates",
   "metadata": {},
   "source": [
    "## 1. 실험환경 Set-up"
   ]
  },
  {
   "cell_type": "code",
   "execution_count": 12,
   "id": "charming-verse",
   "metadata": {},
   "outputs": [],
   "source": [
    "import re    # 정규표현식 관련된 작업에 필요한 패키지\n",
    "import os    # I/O 관련된 작업에 필요한 패키지 \n",
    "import pandas as pd     # 데이터 전처리 관련된 작업에 필요한 패키지\n",
    "import numpy as np      # 데이터 array 작업에 필요한 패키지\n",
    "import tensorflow as tf  # 딥러닝 관련된 작업에 필요한 패키지\n",
    "import matplotlib.pyplot as plt    # 데이터 시각화에 관련된 작업에 필요한 패키지\n",
    "from sklearn.model_selection import train_test_split  # 데이터 전처리에 필요한 패키지\n",
    "import random, math"
   ]
  },
  {
   "cell_type": "code",
   "execution_count": 13,
   "id": "valid-pittsburgh",
   "metadata": {},
   "outputs": [
    {
     "name": "stdout",
     "output_type": "stream",
     "text": [
      "/aiffel/aiffel/EXPLORATION/11/\n"
     ]
    }
   ],
   "source": [
    "# 데이터 로드할 때 빠르게 로드할 수 있도록하는 설정 변수\n",
    "AUTOTUNE = tf.data.experimental.AUTOTUNE\n",
    "\n",
    "# 데이터 ROOT 경로 변수\n",
    "ROOT_PATH = os.path.join(os.getenv('HOME'), 'aiffel/EXPLORATION/11/')\n",
    "TRAIN_PATH = ROOT_PATH + '/chest_xray/data/train/*/*'\n",
    "VAL_PATH = ROOT_PATH + '/chest_xray/data/val/*/*'\n",
    "TEST_PATH = ROOT_PATH + '/chest_xray/data/test/*/*'\n",
    "\n",
    "# BATCH_SIZE 변수\n",
    "BATCH_SIZE_1 = 32\n",
    "BATCH_SIZE_2 = 32\n",
    "BATCH_SIZE_3 = 32\n",
    "BATCH_SIZE_4 = 32\n",
    "BATCH_SIZE_5 = 32\n",
    "\n",
    "# X-RAY 이미지 사이즈 변수\n",
    "IMAGE_SIZE = [180, 180]\n",
    "\n",
    "# EPOCH 크기 변수\n",
    "EPOCHS_1 = 5\n",
    "EPOCHS_2 = 5\n",
    "EPOCHS_3 = 5\n",
    "EPOCHS_4 = 5\n",
    "EPOCHS_5 = 5\n",
    "\n",
    "print(ROOT_PATH)"
   ]
  },
  {
   "cell_type": "markdown",
   "id": "innocent-intersection",
   "metadata": {},
   "source": [
    "## 2. 데이터 준비하기"
   ]
  },
  {
   "cell_type": "code",
   "execution_count": 14,
   "id": "adequate-confidentiality",
   "metadata": {},
   "outputs": [
    {
     "name": "stdout",
     "output_type": "stream",
     "text": [
      "0\n",
      "0\n",
      "0\n"
     ]
    }
   ],
   "source": [
    "train_filenames = tf.io.gfile.glob(TRAIN_PATH)\n",
    "test_filenames = tf.io.gfile.glob(TEST_PATH)\n",
    "val_filenames = tf.io.gfile.glob(VAL_PATH)\n",
    "\n",
    "print(len(train_filenames))\n",
    "print(len(test_filenames))\n",
    "print(len(val_filenames))"
   ]
  },
  {
   "cell_type": "code",
   "execution_count": 15,
   "id": "tropical-catholic",
   "metadata": {},
   "outputs": [
    {
     "name": "stdout",
     "output_type": "stream",
     "text": [
      "0\n",
      "0\n"
     ]
    }
   ],
   "source": [
    "# train 데이터와 validation 데이터를 모두 filenames에 담습니다\n",
    "filenames = tf.io.gfile.glob(TRAIN_PATH)\n",
    "filenames.extend(tf.io.gfile.glob(VAL_PATH))\n",
    "\n",
    "# 모아진 filenames를 8:2로 나눕니다\n",
    "train_size = math.floor(len(filenames)*0.8)\n",
    "random.seed(8)\n",
    "random.shuffle(filenames)\n",
    "train_filenames = filenames[:train_size]\n",
    "val_filenames = filenames[train_size:]\n",
    "\n",
    "print(len(train_filenames))\n",
    "print(len(val_filenames))"
   ]
  },
  {
   "cell_type": "code",
   "execution_count": 16,
   "id": "ongoing-sally",
   "metadata": {},
   "outputs": [
    {
     "name": "stdout",
     "output_type": "stream",
     "text": [
      "Normal images count in training set: 0\n",
      "Pneumonia images count in training set: 0\n"
     ]
    }
   ],
   "source": [
    "COUNT_NORMAL = len([filename for filename in train_filenames if \"NORMAL\" in filename])\n",
    "print(\"Normal images count in training set: \" + str(COUNT_NORMAL))\n",
    "\n",
    "COUNT_PNEUMONIA = len([filename for filename in train_filenames if \"PNEUMONIA\" in filename])\n",
    "print(\"Pneumonia images count in training set: \" + str(COUNT_PNEUMONIA))"
   ]
  },
  {
   "cell_type": "code",
   "execution_count": 17,
   "id": "consistent-columbus",
   "metadata": {},
   "outputs": [],
   "source": [
    "train_list_ds = tf.data.Dataset.from_tensor_slices(train_filenames)\n",
    "val_list_ds = tf.data.Dataset.from_tensor_slices(val_filenames)"
   ]
  },
  {
   "cell_type": "code",
   "execution_count": 18,
   "id": "medieval-finland",
   "metadata": {},
   "outputs": [
    {
     "name": "stdout",
     "output_type": "stream",
     "text": [
      "Training images count: 0\n",
      "Validating images count: 0\n"
     ]
    }
   ],
   "source": [
    "TRAIN_IMG_COUNT = tf.data.experimental.cardinality(train_list_ds).numpy()\n",
    "print(\"Training images count: \" + str(TRAIN_IMG_COUNT))\n",
    "\n",
    "VAL_IMG_COUNT = tf.data.experimental.cardinality(val_list_ds).numpy()\n",
    "print(\"Validating images count: \" + str(VAL_IMG_COUNT))"
   ]
  },
  {
   "cell_type": "code",
   "execution_count": 19,
   "id": "adequate-relief",
   "metadata": {},
   "outputs": [
    {
     "name": "stdout",
     "output_type": "stream",
     "text": [
      "[]\n"
     ]
    }
   ],
   "source": [
    "CLASS_NAMES = np.array([str(tf.strings.split(item, os.path.sep)[-1].numpy())[2:-1]\n",
    "                        for item in tf.io.gfile.glob(str(ROOT_PATH + \"/chest_xray/data/train/*\"))])\n",
    "print(CLASS_NAMES)"
   ]
  },
  {
   "cell_type": "code",
   "execution_count": 20,
   "id": "russian-tender",
   "metadata": {},
   "outputs": [],
   "source": [
    "def get_label(file_path):\n",
    "    parts = tf.strings.split(file_path, os.path.sep)\n",
    "    return parts[-2] == \"PNEUMONIA\"   # 폐렴이면 양성(True), 노말이면 음성(False)를 리턴하게 합니다.\n"
   ]
  },
  {
   "cell_type": "code",
   "execution_count": 21,
   "id": "documented-bouquet",
   "metadata": {},
   "outputs": [],
   "source": [
    "def decode_img(img):\n",
    "  # 이미지를 uint8 tensor로 바꾼다.\n",
    "  img = tf.image.decode_jpeg(img, channels=3)\n",
    "  # img를 범위 [0,1]의 float32 데이터 타입으로 바꾼다.\n",
    "  img = tf.image.convert_image_dtype(img, tf.float32)\n",
    "  # img의 이미지 사이즈를 IMAGE_SIZE에서 지정한 사이즈로 수정한다.\n",
    "  return tf.image.resize(img, IMAGE_SIZE)\n",
    "\n",
    "def process_path(file_path):\n",
    "    label = get_label(file_path)\n",
    "    img = tf.io.read_file(file_path)\n",
    "    img = decode_img(img)\n",
    "    return img, label"
   ]
  },
  {
   "cell_type": "code",
   "execution_count": 23,
   "id": "iraqi-answer",
   "metadata": {},
   "outputs": [
    {
     "ename": "ValueError",
     "evalue": "in user code:\n\n    <ipython-input-21-f404d02b64be>:10 process_path  *\n        label = get_label(file_path)\n    <ipython-input-20-9c758d65f5c0>:2 get_label  *\n        parts = tf.strings.split(file_path, os.path.sep)\n    /opt/conda/lib/python3.7/site-packages/tensorflow/python/util/dispatch.py:201 wrapper  **\n        return target(*args, **kwargs)\n    /opt/conda/lib/python3.7/site-packages/tensorflow/python/ops/ragged/ragged_string_ops.py:511 string_split_v2\n        input, dtype=dtypes.string, name=\"input\")\n    /opt/conda/lib/python3.7/site-packages/tensorflow/python/ops/ragged/ragged_tensor.py:2543 convert_to_tensor_or_ragged_tensor\n        value=value, dtype=dtype, dtype_hint=preferred_dtype, name=name)\n    /opt/conda/lib/python3.7/site-packages/tensorflow/python/util/dispatch.py:201 wrapper\n        return target(*args, **kwargs)\n    /opt/conda/lib/python3.7/site-packages/tensorflow/python/framework/ops.py:1405 convert_to_tensor_v2_with_dispatch\n        value, dtype=dtype, dtype_hint=dtype_hint, name=name)\n    /opt/conda/lib/python3.7/site-packages/tensorflow/python/framework/ops.py:1415 convert_to_tensor_v2\n        as_ref=False)\n    /opt/conda/lib/python3.7/site-packages/tensorflow/python/profiler/trace.py:163 wrapped\n        return func(*args, **kwargs)\n    /opt/conda/lib/python3.7/site-packages/tensorflow/python/framework/ops.py:1509 convert_to_tensor\n        (dtype.name, value.dtype.name, value))\n\n    ValueError: Tensor conversion requested dtype string for Tensor with dtype float32: <tf.Tensor 'args_0:0' shape=() dtype=float32>\n",
     "output_type": "error",
     "traceback": [
      "\u001b[0;31m---------------------------------------------------------------------------\u001b[0m",
      "\u001b[0;31mValueError\u001b[0m                                Traceback (most recent call last)",
      "\u001b[0;32m<ipython-input-23-adef987428ca>\u001b[0m in \u001b[0;36m<module>\u001b[0;34m\u001b[0m\n\u001b[0;32m----> 1\u001b[0;31m \u001b[0mtrain_ds\u001b[0m \u001b[0;34m=\u001b[0m \u001b[0mtrain_list_ds\u001b[0m\u001b[0;34m.\u001b[0m\u001b[0mmap\u001b[0m\u001b[0;34m(\u001b[0m\u001b[0mprocess_path\u001b[0m\u001b[0;34m,\u001b[0m \u001b[0mnum_parallel_calls\u001b[0m\u001b[0;34m=\u001b[0m\u001b[0mAUTOTUNE\u001b[0m\u001b[0;34m)\u001b[0m\u001b[0;34m\u001b[0m\u001b[0;34m\u001b[0m\u001b[0m\n\u001b[0m\u001b[1;32m      2\u001b[0m \u001b[0mval_ds\u001b[0m \u001b[0;34m=\u001b[0m \u001b[0mval_list_ds\u001b[0m\u001b[0;34m.\u001b[0m\u001b[0mmap\u001b[0m\u001b[0;34m(\u001b[0m\u001b[0mprocess_path\u001b[0m\u001b[0;34m,\u001b[0m \u001b[0mnum_parallel_calls\u001b[0m\u001b[0;34m=\u001b[0m\u001b[0mAUTOTUNE\u001b[0m\u001b[0;34m)\u001b[0m\u001b[0;34m\u001b[0m\u001b[0;34m\u001b[0m\u001b[0m\n",
      "\u001b[0;32m/opt/conda/lib/python3.7/site-packages/tensorflow/python/data/ops/dataset_ops.py\u001b[0m in \u001b[0;36mmap\u001b[0;34m(self, map_func, num_parallel_calls, deterministic)\u001b[0m\n\u001b[1;32m   1810\u001b[0m           \u001b[0mnum_parallel_calls\u001b[0m\u001b[0;34m,\u001b[0m\u001b[0;34m\u001b[0m\u001b[0;34m\u001b[0m\u001b[0m\n\u001b[1;32m   1811\u001b[0m           \u001b[0mdeterministic\u001b[0m\u001b[0;34m,\u001b[0m\u001b[0;34m\u001b[0m\u001b[0;34m\u001b[0m\u001b[0m\n\u001b[0;32m-> 1812\u001b[0;31m           preserve_cardinality=True)\n\u001b[0m\u001b[1;32m   1813\u001b[0m \u001b[0;34m\u001b[0m\u001b[0m\n\u001b[1;32m   1814\u001b[0m   \u001b[0;32mdef\u001b[0m \u001b[0mflat_map\u001b[0m\u001b[0;34m(\u001b[0m\u001b[0mself\u001b[0m\u001b[0;34m,\u001b[0m \u001b[0mmap_func\u001b[0m\u001b[0;34m)\u001b[0m\u001b[0;34m:\u001b[0m\u001b[0;34m\u001b[0m\u001b[0;34m\u001b[0m\u001b[0m\n",
      "\u001b[0;32m/opt/conda/lib/python3.7/site-packages/tensorflow/python/data/ops/dataset_ops.py\u001b[0m in \u001b[0;36m__init__\u001b[0;34m(self, input_dataset, map_func, num_parallel_calls, deterministic, use_inter_op_parallelism, preserve_cardinality, use_legacy_function)\u001b[0m\n\u001b[1;32m   4244\u001b[0m         \u001b[0mself\u001b[0m\u001b[0;34m.\u001b[0m\u001b[0m_transformation_name\u001b[0m\u001b[0;34m(\u001b[0m\u001b[0;34m)\u001b[0m\u001b[0;34m,\u001b[0m\u001b[0;34m\u001b[0m\u001b[0;34m\u001b[0m\u001b[0m\n\u001b[1;32m   4245\u001b[0m         \u001b[0mdataset\u001b[0m\u001b[0;34m=\u001b[0m\u001b[0minput_dataset\u001b[0m\u001b[0;34m,\u001b[0m\u001b[0;34m\u001b[0m\u001b[0;34m\u001b[0m\u001b[0m\n\u001b[0;32m-> 4246\u001b[0;31m         use_legacy_function=use_legacy_function)\n\u001b[0m\u001b[1;32m   4247\u001b[0m     \u001b[0;32mif\u001b[0m \u001b[0mdeterministic\u001b[0m \u001b[0;32mis\u001b[0m \u001b[0;32mNone\u001b[0m\u001b[0;34m:\u001b[0m\u001b[0;34m\u001b[0m\u001b[0;34m\u001b[0m\u001b[0m\n\u001b[1;32m   4248\u001b[0m       \u001b[0mself\u001b[0m\u001b[0;34m.\u001b[0m\u001b[0m_deterministic\u001b[0m \u001b[0;34m=\u001b[0m \u001b[0;34m\"default\"\u001b[0m\u001b[0;34m\u001b[0m\u001b[0;34m\u001b[0m\u001b[0m\n",
      "\u001b[0;32m/opt/conda/lib/python3.7/site-packages/tensorflow/python/data/ops/dataset_ops.py\u001b[0m in \u001b[0;36m__init__\u001b[0;34m(self, func, transformation_name, dataset, input_classes, input_shapes, input_types, input_structure, add_to_graph, use_legacy_function, defun_kwargs)\u001b[0m\n\u001b[1;32m   3523\u001b[0m       \u001b[0;32mwith\u001b[0m \u001b[0mtracking\u001b[0m\u001b[0;34m.\u001b[0m\u001b[0mresource_tracker_scope\u001b[0m\u001b[0;34m(\u001b[0m\u001b[0mresource_tracker\u001b[0m\u001b[0;34m)\u001b[0m\u001b[0;34m:\u001b[0m\u001b[0;34m\u001b[0m\u001b[0;34m\u001b[0m\u001b[0m\n\u001b[1;32m   3524\u001b[0m         \u001b[0;31m# TODO(b/141462134): Switch to using garbage collection.\u001b[0m\u001b[0;34m\u001b[0m\u001b[0;34m\u001b[0m\u001b[0;34m\u001b[0m\u001b[0m\n\u001b[0;32m-> 3525\u001b[0;31m         \u001b[0mself\u001b[0m\u001b[0;34m.\u001b[0m\u001b[0m_function\u001b[0m \u001b[0;34m=\u001b[0m \u001b[0mwrapper_fn\u001b[0m\u001b[0;34m.\u001b[0m\u001b[0mget_concrete_function\u001b[0m\u001b[0;34m(\u001b[0m\u001b[0;34m)\u001b[0m\u001b[0;34m\u001b[0m\u001b[0;34m\u001b[0m\u001b[0m\n\u001b[0m\u001b[1;32m   3526\u001b[0m         \u001b[0;32mif\u001b[0m \u001b[0madd_to_graph\u001b[0m\u001b[0;34m:\u001b[0m\u001b[0;34m\u001b[0m\u001b[0;34m\u001b[0m\u001b[0m\n\u001b[1;32m   3527\u001b[0m           \u001b[0mself\u001b[0m\u001b[0;34m.\u001b[0m\u001b[0m_function\u001b[0m\u001b[0;34m.\u001b[0m\u001b[0madd_to_graph\u001b[0m\u001b[0;34m(\u001b[0m\u001b[0mops\u001b[0m\u001b[0;34m.\u001b[0m\u001b[0mget_default_graph\u001b[0m\u001b[0;34m(\u001b[0m\u001b[0;34m)\u001b[0m\u001b[0;34m)\u001b[0m\u001b[0;34m\u001b[0m\u001b[0;34m\u001b[0m\u001b[0m\n",
      "\u001b[0;32m/opt/conda/lib/python3.7/site-packages/tensorflow/python/eager/function.py\u001b[0m in \u001b[0;36mget_concrete_function\u001b[0;34m(self, *args, **kwargs)\u001b[0m\n\u001b[1;32m   3050\u001b[0m     \"\"\"\n\u001b[1;32m   3051\u001b[0m     graph_function = self._get_concrete_function_garbage_collected(\n\u001b[0;32m-> 3052\u001b[0;31m         *args, **kwargs)\n\u001b[0m\u001b[1;32m   3053\u001b[0m     \u001b[0mgraph_function\u001b[0m\u001b[0;34m.\u001b[0m\u001b[0m_garbage_collector\u001b[0m\u001b[0;34m.\u001b[0m\u001b[0mrelease\u001b[0m\u001b[0;34m(\u001b[0m\u001b[0;34m)\u001b[0m  \u001b[0;31m# pylint: disable=protected-access\u001b[0m\u001b[0;34m\u001b[0m\u001b[0;34m\u001b[0m\u001b[0m\n\u001b[1;32m   3054\u001b[0m     \u001b[0;32mreturn\u001b[0m \u001b[0mgraph_function\u001b[0m\u001b[0;34m\u001b[0m\u001b[0;34m\u001b[0m\u001b[0m\n",
      "\u001b[0;32m/opt/conda/lib/python3.7/site-packages/tensorflow/python/eager/function.py\u001b[0m in \u001b[0;36m_get_concrete_function_garbage_collected\u001b[0;34m(self, *args, **kwargs)\u001b[0m\n\u001b[1;32m   3017\u001b[0m       \u001b[0margs\u001b[0m\u001b[0;34m,\u001b[0m \u001b[0mkwargs\u001b[0m \u001b[0;34m=\u001b[0m \u001b[0;32mNone\u001b[0m\u001b[0;34m,\u001b[0m \u001b[0;32mNone\u001b[0m\u001b[0;34m\u001b[0m\u001b[0;34m\u001b[0m\u001b[0m\n\u001b[1;32m   3018\u001b[0m     \u001b[0;32mwith\u001b[0m \u001b[0mself\u001b[0m\u001b[0;34m.\u001b[0m\u001b[0m_lock\u001b[0m\u001b[0;34m:\u001b[0m\u001b[0;34m\u001b[0m\u001b[0;34m\u001b[0m\u001b[0m\n\u001b[0;32m-> 3019\u001b[0;31m       \u001b[0mgraph_function\u001b[0m\u001b[0;34m,\u001b[0m \u001b[0m_\u001b[0m \u001b[0;34m=\u001b[0m \u001b[0mself\u001b[0m\u001b[0;34m.\u001b[0m\u001b[0m_maybe_define_function\u001b[0m\u001b[0;34m(\u001b[0m\u001b[0margs\u001b[0m\u001b[0;34m,\u001b[0m \u001b[0mkwargs\u001b[0m\u001b[0;34m)\u001b[0m\u001b[0;34m\u001b[0m\u001b[0;34m\u001b[0m\u001b[0m\n\u001b[0m\u001b[1;32m   3020\u001b[0m       \u001b[0mseen_names\u001b[0m \u001b[0;34m=\u001b[0m \u001b[0mset\u001b[0m\u001b[0;34m(\u001b[0m\u001b[0;34m)\u001b[0m\u001b[0;34m\u001b[0m\u001b[0;34m\u001b[0m\u001b[0m\n\u001b[1;32m   3021\u001b[0m       captured = object_identity.ObjectIdentitySet(\n",
      "\u001b[0;32m/opt/conda/lib/python3.7/site-packages/tensorflow/python/eager/function.py\u001b[0m in \u001b[0;36m_maybe_define_function\u001b[0;34m(self, args, kwargs)\u001b[0m\n\u001b[1;32m   3359\u001b[0m \u001b[0;34m\u001b[0m\u001b[0m\n\u001b[1;32m   3360\u001b[0m           \u001b[0mself\u001b[0m\u001b[0;34m.\u001b[0m\u001b[0m_function_cache\u001b[0m\u001b[0;34m.\u001b[0m\u001b[0mmissed\u001b[0m\u001b[0;34m.\u001b[0m\u001b[0madd\u001b[0m\u001b[0;34m(\u001b[0m\u001b[0mcall_context_key\u001b[0m\u001b[0;34m)\u001b[0m\u001b[0;34m\u001b[0m\u001b[0;34m\u001b[0m\u001b[0m\n\u001b[0;32m-> 3361\u001b[0;31m           \u001b[0mgraph_function\u001b[0m \u001b[0;34m=\u001b[0m \u001b[0mself\u001b[0m\u001b[0;34m.\u001b[0m\u001b[0m_create_graph_function\u001b[0m\u001b[0;34m(\u001b[0m\u001b[0margs\u001b[0m\u001b[0;34m,\u001b[0m \u001b[0mkwargs\u001b[0m\u001b[0;34m)\u001b[0m\u001b[0;34m\u001b[0m\u001b[0;34m\u001b[0m\u001b[0m\n\u001b[0m\u001b[1;32m   3362\u001b[0m           \u001b[0mself\u001b[0m\u001b[0;34m.\u001b[0m\u001b[0m_function_cache\u001b[0m\u001b[0;34m.\u001b[0m\u001b[0mprimary\u001b[0m\u001b[0;34m[\u001b[0m\u001b[0mcache_key\u001b[0m\u001b[0;34m]\u001b[0m \u001b[0;34m=\u001b[0m \u001b[0mgraph_function\u001b[0m\u001b[0;34m\u001b[0m\u001b[0;34m\u001b[0m\u001b[0m\n\u001b[1;32m   3363\u001b[0m \u001b[0;34m\u001b[0m\u001b[0m\n",
      "\u001b[0;32m/opt/conda/lib/python3.7/site-packages/tensorflow/python/eager/function.py\u001b[0m in \u001b[0;36m_create_graph_function\u001b[0;34m(self, args, kwargs, override_flat_arg_shapes)\u001b[0m\n\u001b[1;32m   3204\u001b[0m             \u001b[0marg_names\u001b[0m\u001b[0;34m=\u001b[0m\u001b[0marg_names\u001b[0m\u001b[0;34m,\u001b[0m\u001b[0;34m\u001b[0m\u001b[0;34m\u001b[0m\u001b[0m\n\u001b[1;32m   3205\u001b[0m             \u001b[0moverride_flat_arg_shapes\u001b[0m\u001b[0;34m=\u001b[0m\u001b[0moverride_flat_arg_shapes\u001b[0m\u001b[0;34m,\u001b[0m\u001b[0;34m\u001b[0m\u001b[0;34m\u001b[0m\u001b[0m\n\u001b[0;32m-> 3206\u001b[0;31m             capture_by_value=self._capture_by_value),\n\u001b[0m\u001b[1;32m   3207\u001b[0m         \u001b[0mself\u001b[0m\u001b[0;34m.\u001b[0m\u001b[0m_function_attributes\u001b[0m\u001b[0;34m,\u001b[0m\u001b[0;34m\u001b[0m\u001b[0;34m\u001b[0m\u001b[0m\n\u001b[1;32m   3208\u001b[0m         \u001b[0mfunction_spec\u001b[0m\u001b[0;34m=\u001b[0m\u001b[0mself\u001b[0m\u001b[0;34m.\u001b[0m\u001b[0mfunction_spec\u001b[0m\u001b[0;34m,\u001b[0m\u001b[0;34m\u001b[0m\u001b[0;34m\u001b[0m\u001b[0m\n",
      "\u001b[0;32m/opt/conda/lib/python3.7/site-packages/tensorflow/python/framework/func_graph.py\u001b[0m in \u001b[0;36mfunc_graph_from_py_func\u001b[0;34m(name, python_func, args, kwargs, signature, func_graph, autograph, autograph_options, add_control_dependencies, arg_names, op_return_value, collections, capture_by_value, override_flat_arg_shapes)\u001b[0m\n\u001b[1;32m    988\u001b[0m         \u001b[0m_\u001b[0m\u001b[0;34m,\u001b[0m \u001b[0moriginal_func\u001b[0m \u001b[0;34m=\u001b[0m \u001b[0mtf_decorator\u001b[0m\u001b[0;34m.\u001b[0m\u001b[0munwrap\u001b[0m\u001b[0;34m(\u001b[0m\u001b[0mpython_func\u001b[0m\u001b[0;34m)\u001b[0m\u001b[0;34m\u001b[0m\u001b[0;34m\u001b[0m\u001b[0m\n\u001b[1;32m    989\u001b[0m \u001b[0;34m\u001b[0m\u001b[0m\n\u001b[0;32m--> 990\u001b[0;31m       \u001b[0mfunc_outputs\u001b[0m \u001b[0;34m=\u001b[0m \u001b[0mpython_func\u001b[0m\u001b[0;34m(\u001b[0m\u001b[0;34m*\u001b[0m\u001b[0mfunc_args\u001b[0m\u001b[0;34m,\u001b[0m \u001b[0;34m**\u001b[0m\u001b[0mfunc_kwargs\u001b[0m\u001b[0;34m)\u001b[0m\u001b[0;34m\u001b[0m\u001b[0;34m\u001b[0m\u001b[0m\n\u001b[0m\u001b[1;32m    991\u001b[0m \u001b[0;34m\u001b[0m\u001b[0m\n\u001b[1;32m    992\u001b[0m       \u001b[0;31m# invariant: `func_outputs` contains only Tensors, CompositeTensors,\u001b[0m\u001b[0;34m\u001b[0m\u001b[0;34m\u001b[0m\u001b[0;34m\u001b[0m\u001b[0m\n",
      "\u001b[0;32m/opt/conda/lib/python3.7/site-packages/tensorflow/python/data/ops/dataset_ops.py\u001b[0m in \u001b[0;36mwrapper_fn\u001b[0;34m(*args)\u001b[0m\n\u001b[1;32m   3516\u001b[0m           attributes=defun_kwargs)\n\u001b[1;32m   3517\u001b[0m       \u001b[0;32mdef\u001b[0m \u001b[0mwrapper_fn\u001b[0m\u001b[0;34m(\u001b[0m\u001b[0;34m*\u001b[0m\u001b[0margs\u001b[0m\u001b[0;34m)\u001b[0m\u001b[0;34m:\u001b[0m  \u001b[0;31m# pylint: disable=missing-docstring\u001b[0m\u001b[0;34m\u001b[0m\u001b[0;34m\u001b[0m\u001b[0m\n\u001b[0;32m-> 3518\u001b[0;31m         \u001b[0mret\u001b[0m \u001b[0;34m=\u001b[0m \u001b[0m_wrapper_helper\u001b[0m\u001b[0;34m(\u001b[0m\u001b[0;34m*\u001b[0m\u001b[0margs\u001b[0m\u001b[0;34m)\u001b[0m\u001b[0;34m\u001b[0m\u001b[0;34m\u001b[0m\u001b[0m\n\u001b[0m\u001b[1;32m   3519\u001b[0m         \u001b[0mret\u001b[0m \u001b[0;34m=\u001b[0m \u001b[0mstructure\u001b[0m\u001b[0;34m.\u001b[0m\u001b[0mto_tensor_list\u001b[0m\u001b[0;34m(\u001b[0m\u001b[0mself\u001b[0m\u001b[0;34m.\u001b[0m\u001b[0m_output_structure\u001b[0m\u001b[0;34m,\u001b[0m \u001b[0mret\u001b[0m\u001b[0;34m)\u001b[0m\u001b[0;34m\u001b[0m\u001b[0;34m\u001b[0m\u001b[0m\n\u001b[1;32m   3520\u001b[0m         \u001b[0;32mreturn\u001b[0m \u001b[0;34m[\u001b[0m\u001b[0mops\u001b[0m\u001b[0;34m.\u001b[0m\u001b[0mconvert_to_tensor\u001b[0m\u001b[0;34m(\u001b[0m\u001b[0mt\u001b[0m\u001b[0;34m)\u001b[0m \u001b[0;32mfor\u001b[0m \u001b[0mt\u001b[0m \u001b[0;32min\u001b[0m \u001b[0mret\u001b[0m\u001b[0;34m]\u001b[0m\u001b[0;34m\u001b[0m\u001b[0;34m\u001b[0m\u001b[0m\n",
      "\u001b[0;32m/opt/conda/lib/python3.7/site-packages/tensorflow/python/data/ops/dataset_ops.py\u001b[0m in \u001b[0;36m_wrapper_helper\u001b[0;34m(*args)\u001b[0m\n\u001b[1;32m   3451\u001b[0m         \u001b[0mnested_args\u001b[0m \u001b[0;34m=\u001b[0m \u001b[0;34m(\u001b[0m\u001b[0mnested_args\u001b[0m\u001b[0;34m,\u001b[0m\u001b[0;34m)\u001b[0m\u001b[0;34m\u001b[0m\u001b[0;34m\u001b[0m\u001b[0m\n\u001b[1;32m   3452\u001b[0m \u001b[0;34m\u001b[0m\u001b[0m\n\u001b[0;32m-> 3453\u001b[0;31m       \u001b[0mret\u001b[0m \u001b[0;34m=\u001b[0m \u001b[0mautograph\u001b[0m\u001b[0;34m.\u001b[0m\u001b[0mtf_convert\u001b[0m\u001b[0;34m(\u001b[0m\u001b[0mfunc\u001b[0m\u001b[0;34m,\u001b[0m \u001b[0mag_ctx\u001b[0m\u001b[0;34m)\u001b[0m\u001b[0;34m(\u001b[0m\u001b[0;34m*\u001b[0m\u001b[0mnested_args\u001b[0m\u001b[0;34m)\u001b[0m\u001b[0;34m\u001b[0m\u001b[0;34m\u001b[0m\u001b[0m\n\u001b[0m\u001b[1;32m   3454\u001b[0m       \u001b[0;31m# If `func` returns a list of tensors, `nest.flatten()` and\u001b[0m\u001b[0;34m\u001b[0m\u001b[0;34m\u001b[0m\u001b[0;34m\u001b[0m\u001b[0m\n\u001b[1;32m   3455\u001b[0m       \u001b[0;31m# `ops.convert_to_tensor()` would conspire to attempt to stack\u001b[0m\u001b[0;34m\u001b[0m\u001b[0;34m\u001b[0m\u001b[0;34m\u001b[0m\u001b[0m\n",
      "\u001b[0;32m/opt/conda/lib/python3.7/site-packages/tensorflow/python/autograph/impl/api.py\u001b[0m in \u001b[0;36mwrapper\u001b[0;34m(*args, **kwargs)\u001b[0m\n\u001b[1;32m    668\u001b[0m       \u001b[0;32mexcept\u001b[0m \u001b[0mException\u001b[0m \u001b[0;32mas\u001b[0m \u001b[0me\u001b[0m\u001b[0;34m:\u001b[0m  \u001b[0;31m# pylint:disable=broad-except\u001b[0m\u001b[0;34m\u001b[0m\u001b[0;34m\u001b[0m\u001b[0m\n\u001b[1;32m    669\u001b[0m         \u001b[0;32mif\u001b[0m \u001b[0mhasattr\u001b[0m\u001b[0;34m(\u001b[0m\u001b[0me\u001b[0m\u001b[0;34m,\u001b[0m \u001b[0;34m'ag_error_metadata'\u001b[0m\u001b[0;34m)\u001b[0m\u001b[0;34m:\u001b[0m\u001b[0;34m\u001b[0m\u001b[0;34m\u001b[0m\u001b[0m\n\u001b[0;32m--> 670\u001b[0;31m           \u001b[0;32mraise\u001b[0m \u001b[0me\u001b[0m\u001b[0;34m.\u001b[0m\u001b[0mag_error_metadata\u001b[0m\u001b[0;34m.\u001b[0m\u001b[0mto_exception\u001b[0m\u001b[0;34m(\u001b[0m\u001b[0me\u001b[0m\u001b[0;34m)\u001b[0m\u001b[0;34m\u001b[0m\u001b[0;34m\u001b[0m\u001b[0m\n\u001b[0m\u001b[1;32m    671\u001b[0m         \u001b[0;32melse\u001b[0m\u001b[0;34m:\u001b[0m\u001b[0;34m\u001b[0m\u001b[0;34m\u001b[0m\u001b[0m\n\u001b[1;32m    672\u001b[0m           \u001b[0;32mraise\u001b[0m\u001b[0;34m\u001b[0m\u001b[0;34m\u001b[0m\u001b[0m\n",
      "\u001b[0;31mValueError\u001b[0m: in user code:\n\n    <ipython-input-21-f404d02b64be>:10 process_path  *\n        label = get_label(file_path)\n    <ipython-input-20-9c758d65f5c0>:2 get_label  *\n        parts = tf.strings.split(file_path, os.path.sep)\n    /opt/conda/lib/python3.7/site-packages/tensorflow/python/util/dispatch.py:201 wrapper  **\n        return target(*args, **kwargs)\n    /opt/conda/lib/python3.7/site-packages/tensorflow/python/ops/ragged/ragged_string_ops.py:511 string_split_v2\n        input, dtype=dtypes.string, name=\"input\")\n    /opt/conda/lib/python3.7/site-packages/tensorflow/python/ops/ragged/ragged_tensor.py:2543 convert_to_tensor_or_ragged_tensor\n        value=value, dtype=dtype, dtype_hint=preferred_dtype, name=name)\n    /opt/conda/lib/python3.7/site-packages/tensorflow/python/util/dispatch.py:201 wrapper\n        return target(*args, **kwargs)\n    /opt/conda/lib/python3.7/site-packages/tensorflow/python/framework/ops.py:1405 convert_to_tensor_v2_with_dispatch\n        value, dtype=dtype, dtype_hint=dtype_hint, name=name)\n    /opt/conda/lib/python3.7/site-packages/tensorflow/python/framework/ops.py:1415 convert_to_tensor_v2\n        as_ref=False)\n    /opt/conda/lib/python3.7/site-packages/tensorflow/python/profiler/trace.py:163 wrapped\n        return func(*args, **kwargs)\n    /opt/conda/lib/python3.7/site-packages/tensorflow/python/framework/ops.py:1509 convert_to_tensor\n        (dtype.name, value.dtype.name, value))\n\n    ValueError: Tensor conversion requested dtype string for Tensor with dtype float32: <tf.Tensor 'args_0:0' shape=() dtype=float32>\n"
     ]
    }
   ],
   "source": [
    "train_ds = train_list_ds.map(process_path, num_parallel_calls=AUTOTUNE)\n",
    "val_ds = val_list_ds.map(process_path, num_parallel_calls=AUTOTUNE)"
   ]
  },
  {
   "cell_type": "code",
   "execution_count": 24,
   "id": "korean-optimization",
   "metadata": {},
   "outputs": [
    {
     "ename": "NameError",
     "evalue": "name 'train_ds' is not defined",
     "output_type": "error",
     "traceback": [
      "\u001b[0;31m---------------------------------------------------------------------------\u001b[0m",
      "\u001b[0;31mNameError\u001b[0m                                 Traceback (most recent call last)",
      "\u001b[0;32m<ipython-input-24-eb359bdee8ce>\u001b[0m in \u001b[0;36m<module>\u001b[0;34m\u001b[0m\n\u001b[1;32m     11\u001b[0m     \u001b[0;32mreturn\u001b[0m \u001b[0mds\u001b[0m\u001b[0;34m\u001b[0m\u001b[0;34m\u001b[0m\u001b[0m\n\u001b[1;32m     12\u001b[0m \u001b[0;34m\u001b[0m\u001b[0m\n\u001b[0;32m---> 13\u001b[0;31m \u001b[0mtrain_ds_1\u001b[0m \u001b[0;34m=\u001b[0m \u001b[0mprepare_for_training_1\u001b[0m\u001b[0;34m(\u001b[0m\u001b[0mtrain_ds\u001b[0m\u001b[0;34m)\u001b[0m\u001b[0;34m\u001b[0m\u001b[0;34m\u001b[0m\u001b[0m\n\u001b[0m\u001b[1;32m     14\u001b[0m \u001b[0mval_ds_1\u001b[0m \u001b[0;34m=\u001b[0m \u001b[0mprepare_for_training_1\u001b[0m\u001b[0;34m(\u001b[0m\u001b[0mval_ds\u001b[0m\u001b[0;34m)\u001b[0m\u001b[0;34m\u001b[0m\u001b[0;34m\u001b[0m\u001b[0m\n",
      "\u001b[0;31mNameError\u001b[0m: name 'train_ds' is not defined"
     ]
    }
   ],
   "source": [
    "def prepare_for_training_1(ds, shuffle_buffer_size=1000):\n",
    "\n",
    "    ds = ds.shuffle(buffer_size=shuffle_buffer_size)\n",
    "\n",
    "    ds = ds.repeat()\n",
    "\n",
    "    ds = ds.batch(BATCH_SIZE_1)\n",
    "\n",
    "    ds = ds.prefetch(buffer_size=AUTOTUNE)\n",
    "\n",
    "    return ds\n",
    "\n",
    "train_ds_1 = prepare_for_training_1(train_ds)\n",
    "val_ds_1 = prepare_for_training_1(val_ds)"
   ]
  },
  {
   "cell_type": "code",
   "execution_count": null,
   "id": "expected-comment",
   "metadata": {},
   "outputs": [],
   "source": [
    "#좌우\n",
    "\n",
    "def augment_LR(image,label):\n",
    "    image = tf.image.random_flip_left_right(image)  # 랜덤하게 좌우를 반전합니다.\n",
    "    return image,label\n",
    "\n",
    "def prepare_for_training_LR(ds, shuffle_buffer_size=1000):\n",
    "    # augment 적용 부분이 배치처리 함수에 추가되었습니다.\n",
    "    ds = ds.map(\n",
    "            augment_LR,       # augment 함수 적용\n",
    "            num_parallel_calls=2\n",
    "        )\n",
    "\n",
    "    ds = ds.shuffle(buffer_size=shuffle_buffer_size)\n",
    "\n",
    "    ds = ds.repeat()\n",
    "\n",
    "    ds = ds.batch(BATCH_SIZE_2)\n",
    "\n",
    "    ds = ds.prefetch(buffer_size=AUTOTUNE)\n",
    "\n",
    "    return ds\n",
    "\n",
    "train_ds_2 = prepare_for_training_LR(train_ds)\n",
    "val_ds_2 = prepare_for_training_LR(val_ds)"
   ]
  },
  {
   "cell_type": "code",
   "execution_count": null,
   "id": "defensive-feeling",
   "metadata": {},
   "outputs": [],
   "source": [
    "def augment_C(image,label):\n",
    "    image = tf.image.adjust_contrast(image, 0.5)  # 이미지의 대비를 조절\n",
    "    return image,label\n",
    "\n",
    "def prepare_for_training_C(ds, shuffle_buffer_size=1000):\n",
    "    # augment 적용 부분이 배치처리 함수에 추가되었습니다.\n",
    "    ds = ds.map(\n",
    "            augment_C,       # augment 함수 적용\n",
    "            num_parallel_calls=2\n",
    "        )\n",
    "\n",
    "    ds = ds.shuffle(buffer_size=shuffle_buffer_size)\n",
    "\n",
    "    ds = ds.repeat()\n",
    "\n",
    "    ds = ds.batch(BATCH_SIZE_3)\n",
    "\n",
    "    ds = ds.prefetch(buffer_size=AUTOTUNE)\n",
    "\n",
    "    return ds\n",
    "\n",
    "train_ds_3 = prepare_for_training_C(train_ds)\n",
    "val_ds_3 = prepare_for_training_C(val_ds)"
   ]
  },
  {
   "cell_type": "code",
   "execution_count": null,
   "id": "varying-democrat",
   "metadata": {},
   "outputs": [],
   "source": [
    "def prepare_for_training_4(ds, shuffle_buffer_size=1000):\n",
    "\n",
    "    ds = ds.shuffle(buffer_size=shuffle_buffer_size)\n",
    "\n",
    "    ds = ds.repeat()\n",
    "\n",
    "    ds = ds.batch(BATCH_SIZE_4)\n",
    "\n",
    "    ds = ds.prefetch(buffer_size=AUTOTUNE)\n",
    "\n",
    "    return ds\n",
    "\n",
    "train_ds_4 = prepare_for_training_4(train_ds)\n",
    "val_ds_4 = prepare_for_training_4(val_ds)\n"
   ]
  },
  {
   "cell_type": "code",
   "execution_count": null,
   "id": "protected-restoration",
   "metadata": {},
   "outputs": [],
   "source": [
    "\n",
    "def prepare_for_training_5(ds, shuffle_buffer_size=1000):\n",
    "\n",
    "    ds = ds.shuffle(buffer_size=shuffle_buffer_size)\n",
    "\n",
    "    ds = ds.repeat()\n",
    "\n",
    "    ds = ds.batch(BATCH_SIZE_5)\n",
    "\n",
    "    ds = ds.prefetch(buffer_size=AUTOTUNE)\n",
    "\n",
    "    return ds\n",
    "\n",
    "train_ds_5 = prepare_for_training_5(train_ds)\n",
    "val_ds_5 = prepare_for_training_5(val_ds)"
   ]
  },
  {
   "cell_type": "code",
   "execution_count": null,
   "id": "sitting-warner",
   "metadata": {},
   "outputs": [],
   "source": [
    "for image, label in train_ds.take(1):\n",
    "    print(\"Image shape: \", image.numpy().shape)\n",
    "    print(\"Label: \", label.numpy())"
   ]
  },
  {
   "cell_type": "code",
   "execution_count": null,
   "id": "mental-trading",
   "metadata": {},
   "outputs": [],
   "source": [
    "test_list_ds = tf.data.Dataset.list_files(str(ROOT_PATH + '/chest_xray/data/test/*/*'))\n",
    "TEST_IMAGE_COUNT = tf.data.experimental.cardinality(test_list_ds).numpy()\n",
    "test_ds = test_list_ds.map(process_path, num_parallel_calls=AUTOTUNE)\n",
    "test_ds_1 = test_ds.batch(BATCH_SIZE_1)\n",
    "test_ds_2 = test_ds.batch(BATCH_SIZE_2)\n",
    "test_ds_3 = test_ds.batch(BATCH_SIZE_3)\n",
    "test_ds_4 = test_ds.batch(BATCH_SIZE_4)\n",
    "test_ds_5 = test_ds.batch(BATCH_SIZE_5)\n",
    "\n",
    "print(TEST_IMAGE_COUNT)"
   ]
  },
  {
   "cell_type": "markdown",
   "id": "incredible-stationery",
   "metadata": {},
   "source": [
    "## 3. 데이터 시각화"
   ]
  },
  {
   "cell_type": "markdown",
   "id": "increasing-discharge",
   "metadata": {},
   "source": [
    "- 베이스라인"
   ]
  },
  {
   "cell_type": "code",
   "execution_count": null,
   "id": "protective-harris",
   "metadata": {},
   "outputs": [],
   "source": [
    "image_batch_1, label_batch_1 = next(iter(train_ds_1))\n",
    "\n",
    "def show_batch_1(image_batch, label_batch):\n",
    "    plt.figure(figsize=(15,15))\n",
    "    for n in range(16):\n",
    "        ax = plt.subplot(5,5,n+1)\n",
    "        plt.imshow(image_batch_1[n])\n",
    "        if label_batch_1[n]:\n",
    "            plt.title(\"PNEUMONIA\")\n",
    "        else:\n",
    "            plt.title(\"NORMAL\")\n",
    "        plt.axis(\"off\")\n",
    "\n",
    "show_batch_1(image_batch_1.numpy(), label_batch_1.numpy())"
   ]
  },
  {
   "cell_type": "markdown",
   "id": "exposed-instruction",
   "metadata": {},
   "source": [
    "- 좌우반전"
   ]
  },
  {
   "cell_type": "code",
   "execution_count": null,
   "id": "norman-there",
   "metadata": {},
   "outputs": [],
   "source": [
    "image_batch_2, label_batch_2 = next(iter(train_ds_2))\n",
    "\n",
    "def show_batch_2(image_batch, label_batch):\n",
    "    plt.figure(figsize=(15,15))\n",
    "    for n in range(16):\n",
    "        ax = plt.subplot(5,5,n+1)\n",
    "        plt.imshow(image_batch_2[n])\n",
    "        if label_batch_2[n]:\n",
    "            plt.title(\"PNEUMONIA\")\n",
    "        else:\n",
    "            plt.title(\"NORMAL\")\n",
    "        plt.axis(\"off\")\n",
    "\n",
    "show_batch_2(image_batch_2.numpy(), label_batch_2.numpy())"
   ]
  },
  {
   "cell_type": "markdown",
   "id": "confused-colleague",
   "metadata": {},
   "source": [
    "- 이미지 대비"
   ]
  },
  {
   "cell_type": "code",
   "execution_count": null,
   "id": "integral-parade",
   "metadata": {},
   "outputs": [],
   "source": [
    "image_batch_3, label_batch_3 = next(iter(train_ds_3))\n",
    "\n",
    "def show_batch_3(image_batch, label_batch):\n",
    "    plt.figure(figsize=(15,15))\n",
    "    for n in range(16):\n",
    "        ax = plt.subplot(5,5,n+1)\n",
    "        plt.imshow(image_batch_3[n])\n",
    "        if label_batch_3[n]:\n",
    "            plt.title(\"PNEUMONIA\")\n",
    "        else:\n",
    "            plt.title(\"NORMAL\")\n",
    "        plt.axis(\"off\")\n",
    "\n",
    "show_batch_3(image_batch_3.numpy(), label_batch_3.numpy())"
   ]
  },
  {
   "cell_type": "markdown",
   "id": "tribal-edward",
   "metadata": {},
   "source": [
    "- drop out 제거"
   ]
  },
  {
   "cell_type": "code",
   "execution_count": null,
   "id": "dominican-italian",
   "metadata": {},
   "outputs": [],
   "source": [
    "image_batch_4, label_batch_4 = next(iter(train_ds_4))\n",
    "\n",
    "def show_batch_4(image_batch, label_batch):\n",
    "    plt.figure(figsize=(15,15))\n",
    "    for n in range(16):\n",
    "        ax = plt.subplot(5,5,n+1)\n",
    "        plt.imshow(image_batch_4[n])\n",
    "        if label_batch_4[n]:\n",
    "            plt.title(\"PNEUMONIA\")\n",
    "        else:\n",
    "            plt.title(\"NORMAL\")\n",
    "        plt.axis(\"off\")\n",
    "\n",
    "show_batch_4(image_batch_4.numpy(), label_batch_4.numpy())"
   ]
  },
  {
   "cell_type": "markdown",
   "id": "civilian-bishop",
   "metadata": {},
   "source": [
    "- regularization"
   ]
  },
  {
   "cell_type": "code",
   "execution_count": null,
   "id": "strategic-straight",
   "metadata": {},
   "outputs": [],
   "source": [
    "\n",
    "image_batch_5, label_batch_5 = next(iter(train_ds_5))\n",
    "\n",
    "def show_batch_5(image_batch, label_batch):\n",
    "    plt.figure(figsize=(15,15))\n",
    "    for n in range(16):\n",
    "        ax = plt.subplot(5,5,n+1)\n",
    "        plt.imshow(image_batch_5[n])\n",
    "        if label_batch_5[n]:\n",
    "            plt.title(\"PNEUMONIA\")\n",
    "        else:\n",
    "            plt.title(\"NORMAL\")\n",
    "        plt.axis(\"off\")\n",
    "\n",
    "show_batch_5(image_batch_5.numpy(), label_batch_5.numpy())"
   ]
  },
  {
   "cell_type": "markdown",
   "id": "sustained-december",
   "metadata": {},
   "source": [
    "##  4. CNN 모델링"
   ]
  },
  {
   "cell_type": "code",
   "execution_count": null,
   "id": "comparable-problem",
   "metadata": {},
   "outputs": [],
   "source": [
    "def conv_block(filters):\n",
    "    block = tf.keras.Sequential([\n",
    "        tf.keras.layers.SeparableConv2D(filters, 3, activation='relu', padding='same'),\n",
    "        tf.keras.layers.SeparableConv2D(filters, 3, activation='relu', padding='same'),\n",
    "        tf.keras.layers.BatchNormalization(),\n",
    "        tf.keras.layers.MaxPool2D()\n",
    "    ])\n",
    "    \n",
    "    return block"
   ]
  },
  {
   "cell_type": "code",
   "execution_count": null,
   "id": "appointed-aside",
   "metadata": {},
   "outputs": [],
   "source": [
    "def dense_block(units, dropout_rate):\n",
    "    block = tf.keras.Sequential([\n",
    "        tf.keras.layers.Dense(units, activation='relu'),\n",
    "        tf.keras.layers.BatchNormalization(),\n",
    "        tf.keras.layers.Dropout(dropout_rate)\n",
    "    ])\n",
    "    \n",
    "    return block"
   ]
  },
  {
   "cell_type": "code",
   "execution_count": null,
   "id": "hollow-vaccine",
   "metadata": {},
   "outputs": [],
   "source": [
    "def dense_block_d0(units):\n",
    "    block = tf.keras.Sequential([\n",
    "        tf.keras.layers.Dense(units, activation='relu'),\n",
    "        tf.keras.layers.BatchNormalization()\n",
    "    ])\n",
    "    \n",
    "    return block"
   ]
  },
  {
   "cell_type": "markdown",
   "id": "dried-adaptation",
   "metadata": {},
   "source": [
    "- base line"
   ]
  },
  {
   "cell_type": "code",
   "execution_count": null,
   "id": "regular-grade",
   "metadata": {},
   "outputs": [],
   "source": [
    "def build_model_1():\n",
    "    model = tf.keras.Sequential([\n",
    "        tf.keras.Input(shape=(IMAGE_SIZE[0], IMAGE_SIZE[1], 3)),\n",
    "        \n",
    "        tf.keras.layers.Conv2D(16, 3, activation='relu', padding='same'),\n",
    "        tf.keras.layers.Conv2D(16, 3, activation='relu', padding='same'),\n",
    "        tf.keras.layers.MaxPool2D(),\n",
    "        \n",
    "        conv_block(32),\n",
    "        conv_block(64),\n",
    "        \n",
    "        conv_block(128),\n",
    "        tf.keras.layers.Dropout(0.2),\n",
    "        \n",
    "        conv_block(256),\n",
    "        tf.keras.layers.Dropout(0.2),\n",
    "        \n",
    "        tf.keras.layers.Flatten(),\n",
    "        dense_block(512, 0.7),\n",
    "        dense_block(128, 0.5),\n",
    "        dense_block(64, 0.3),\n",
    "        \n",
    "        tf.keras.layers.Dense(1, activation='sigmoid')\n",
    "    ])\n",
    "    \n",
    "    return model\n"
   ]
  },
  {
   "cell_type": "markdown",
   "id": "flush-principle",
   "metadata": {},
   "source": [
    "- 좌우반전"
   ]
  },
  {
   "cell_type": "code",
   "execution_count": null,
   "id": "invisible-island",
   "metadata": {},
   "outputs": [],
   "source": [
    "def build_model_2():\n",
    "    model = tf.keras.Sequential([\n",
    "        tf.keras.Input(shape=(IMAGE_SIZE[0], IMAGE_SIZE[1], 3)),\n",
    "        \n",
    "        tf.keras.layers.Conv2D(16, 3, activation='relu', padding='same'),\n",
    "        tf.keras.layers.Conv2D(16, 3, activation='relu', padding='same'),\n",
    "        tf.keras.layers.MaxPool2D(),\n",
    "        \n",
    "        conv_block(32),\n",
    "        conv_block(64),\n",
    "        \n",
    "        conv_block(128),\n",
    "        tf.keras.layers.Dropout(0.2),\n",
    "        \n",
    "        conv_block(256),\n",
    "        tf.keras.layers.Dropout(0.2),\n",
    "        \n",
    "        tf.keras.layers.Flatten(),\n",
    "        dense_block(512, 0.7),\n",
    "        dense_block(128, 0.5),\n",
    "        dense_block(64, 0.3),\n",
    "        \n",
    "        tf.keras.layers.Dense(1, activation='sigmoid')\n",
    "    ])\n",
    "    \n",
    "    return model"
   ]
  },
  {
   "cell_type": "markdown",
   "id": "designing-colonial",
   "metadata": {},
   "source": [
    "- \n",
    "이미지 대비"
   ]
  },
  {
   "cell_type": "code",
   "execution_count": null,
   "id": "frozen-suggestion",
   "metadata": {},
   "outputs": [],
   "source": [
    "\n",
    "def build_model_3():\n",
    "    model = tf.keras.Sequential([\n",
    "        tf.keras.Input(shape=(IMAGE_SIZE[0], IMAGE_SIZE[1], 3)),\n",
    "        \n",
    "        tf.keras.layers.Conv2D(16, 3, activation='relu', padding='same'),\n",
    "        tf.keras.layers.Conv2D(16, 3, activation='relu', padding='same'),\n",
    "        tf.keras.layers.MaxPool2D(),\n",
    "        \n",
    "        conv_block(32),\n",
    "        conv_block(64),\n",
    "        \n",
    "        conv_block(128),\n",
    "        tf.keras.layers.Dropout(0.2),\n",
    "        \n",
    "        conv_block(256),\n",
    "        tf.keras.layers.Dropout(0.2),\n",
    "        \n",
    "        tf.keras.layers.Flatten(),\n",
    "        dense_block(512, 0.7),\n",
    "        dense_block(128, 0.5),\n",
    "        dense_block(64, 0.3),\n",
    "        \n",
    "        tf.keras.layers.Dense(1, activation='sigmoid')\n",
    "    ])\n",
    "    \n",
    "    return model"
   ]
  },
  {
   "cell_type": "markdown",
   "id": "affiliated-minneapolis",
   "metadata": {},
   "source": [
    "- drop out 제거"
   ]
  },
  {
   "cell_type": "code",
   "execution_count": null,
   "id": "cardiac-colleague",
   "metadata": {},
   "outputs": [],
   "source": [
    "def build_model_4():\n",
    "    model = tf.keras.Sequential([\n",
    "        tf.keras.Input(shape=(IMAGE_SIZE[0], IMAGE_SIZE[1], 3)),\n",
    "        \n",
    "        tf.keras.layers.Conv2D(16, 3, activation='relu', padding='same'),\n",
    "        tf.keras.layers.Conv2D(16, 3, activation='relu', padding='same'),\n",
    "        tf.keras.layers.MaxPool2D(),\n",
    "        \n",
    "        conv_block(32),\n",
    "        conv_block(64),        \n",
    "        conv_block(128),        \n",
    "        conv_block(256),  # drop out 제거\n",
    "        \n",
    "        tf.keras.layers.Flatten(),\n",
    "        dense_block_d0(512),\n",
    "        dense_block_d0(128),\n",
    "        dense_block_d0(64),  # drop out 제거된 dense_block 사용\n",
    "        \n",
    "        tf.keras.layers.Dense(1, activation='sigmoid')\n",
    "    ])\n",
    "    \n",
    "    return model\n"
   ]
  },
  {
   "cell_type": "markdown",
   "id": "contained-valley",
   "metadata": {},
   "source": [
    "- regularization"
   ]
  },
  {
   "cell_type": "code",
   "execution_count": null,
   "id": "impressed-antigua",
   "metadata": {},
   "outputs": [],
   "source": [
    "\n",
    "def build_model_5():\n",
    "    model = tf.keras.Sequential([\n",
    "        tf.keras.Input(shape=(IMAGE_SIZE[0], IMAGE_SIZE[1], 3)),\n",
    "        \n",
    "        tf.keras.layers.Conv2D(16, 3, activation='relu', padding='same'),\n",
    "        tf.keras.layers.Conv2D(16, 3, activation='relu', padding='same'),\n",
    "        tf.keras.layers.MaxPool2D(),\n",
    "        \n",
    "        conv_block(32),\n",
    "        conv_block(64),\n",
    "        \n",
    "        conv_block(128),\n",
    "        tf.keras.layers.Dropout(0.2),\n",
    "        \n",
    "        conv_block(256),\n",
    "        tf.keras.layers.Dropout(0.2),\n",
    "        \n",
    "        tf.keras.layers.Flatten(),\n",
    "        dense_block(512, 0.7),\n",
    "        dense_block(128, 0.5),\n",
    "        dense_block(64, 0.3),\n",
    "        \n",
    "        tf.keras.layers.Dense(1, activation='sigmoid', kernel_regularizer=tf.keras.regularizers.l2(0.01))\n",
    "    ])\n",
    "    \n",
    "    return model"
   ]
  },
  {
   "cell_type": "markdown",
   "id": "worthy-actor",
   "metadata": {},
   "source": [
    "## 5. 데이터 imbalance 처리\n"
   ]
  },
  {
   "cell_type": "code",
   "execution_count": null,
   "id": "necessary-patient",
   "metadata": {},
   "outputs": [],
   "source": [
    "weight_for_0 = (1 / COUNT_NORMAL)*(TRAIN_IMG_COUNT)/2.0 \n",
    "weight_for_1 = (1 / COUNT_PNEUMONIA)*(TRAIN_IMG_COUNT)/2.0\n",
    "\n",
    "class_weight = {0: weight_for_0, 1: weight_for_1}\n",
    "\n",
    "print('Weight for NORMAL: {:.2f}'.format(weight_for_0))\n",
    "print('Weight for PNEUMONIA: {:.2f}'.format(weight_for_1))"
   ]
  },
  {
   "cell_type": "markdown",
   "id": "behavioral-checklist",
   "metadata": {},
   "source": [
    "## 6. 모델 훈련"
   ]
  },
  {
   "cell_type": "markdown",
   "id": "latin-commerce",
   "metadata": {},
   "source": [
    "- 베이스라인"
   ]
  },
  {
   "cell_type": "code",
   "execution_count": null,
   "id": "dependent-grocery",
   "metadata": {},
   "outputs": [],
   "source": [
    "with tf.device('/GPU:0'):\n",
    "    model_1 = build_model_1()\n",
    "\n",
    "    METRICS = [\n",
    "        'accuracy',\n",
    "        tf.keras.metrics.Precision(name='precision'),\n",
    "        tf.keras.metrics.Recall(name='recall')\n",
    "    ]\n",
    "    \n",
    "    model_1.compile(\n",
    "        optimizer='adam',\n",
    "        loss='binary_crossentropy',\n",
    "        metrics=METRICS\n",
    "    )"
   ]
  },
  {
   "cell_type": "code",
   "execution_count": null,
   "id": "amino-bahrain",
   "metadata": {},
   "outputs": [],
   "source": [
    "with tf.device('/GPU:0'):\n",
    "    history_1 = model_1.fit(\n",
    "        train_ds_1,\n",
    "        steps_per_epoch=TRAIN_IMG_COUNT // BATCH_SIZE_1,\n",
    "        epochs=EPOCHS_1,\n",
    "        validation_data=val_ds_1,\n",
    "        validation_steps=VAL_IMG_COUNT // BATCH_SIZE_1,\n",
    "        class_weight=class_weight,\n",
    "    )"
   ]
  },
  {
   "cell_type": "markdown",
   "id": "flying-monitoring",
   "metadata": {},
   "source": [
    "## 7. 결과 확인과 시각화"
   ]
  },
  {
   "cell_type": "code",
   "execution_count": null,
   "id": "assisted-sharing",
   "metadata": {},
   "outputs": [],
   "source": [
    "fig, ax = plt.subplots(1, 4, figsize=(20, 3))\n",
    "ax = ax.ravel()\n",
    "\n",
    "for i, met in enumerate(['precision', 'recall', 'accuracy', 'loss']):\n",
    "    ax[i].plot(history_1.history[met])\n",
    "    ax[i].plot(history_1.history['val_' + met])\n",
    "    ax[i].set_title('Model {}'.format(met))\n",
    "    ax[i].set_xlabel('epochs')\n",
    "    ax[i].set_ylabel(met)\n",
    "    ax[i].legend(['train', 'val'])"
   ]
  },
  {
   "cell_type": "code",
   "execution_count": null,
   "id": "durable-routine",
   "metadata": {},
   "outputs": [],
   "source": [
    "#base line\n",
    "loss_1, acc_1, prec_1, rec_1 = model_1.evaluate(test_ds_1)"
   ]
  },
  {
   "cell_type": "markdown",
   "id": "according-investigator",
   "metadata": {},
   "source": [
    "# 회고"
   ]
  },
  {
   "cell_type": "markdown",
   "id": "headed-highlight",
   "metadata": {},
   "source": [
    "- **마지막으로 한번 전체 실행을 돌렸다가 갑자기 오류가 발생했고, 마감시간 문제로 포기함**\n",
    "\n",
    "\n",
    "- 비록 이미지 변환도 시켜보는등으로 신뢰도를 높이기위한 노력을 했지만 아쉽게도, 다른방식의 데이터표현방법에 대해서 학습과 시각화를 하지못한 점은 아쉽다,,\n",
    "\n",
    "\n",
    "- 여전히 마감 직전에 돌리는 학습은 너무나도 버겁다.. 매번 하는생각이지만 미리해야겠다 (예정된 20짜리 epochs 를 5밖에 못돌려서 아쉽다) \n",
    "\n",
    "\n",
    "- 발상의 전환이라고 했는가 정상적인 이미지를 다양한 방법으로 처치하는 방법에서 모델훈련을 위한 여러가지 방법도 창의성이 중요하다는 것을 알게됐다."
   ]
  },
  {
   "cell_type": "code",
   "execution_count": null,
   "id": "solved-viewer",
   "metadata": {},
   "outputs": [],
   "source": []
  }
 ],
 "metadata": {
  "kernelspec": {
   "display_name": "Python 3",
   "language": "python",
   "name": "python3"
  },
  "language_info": {
   "codemirror_mode": {
    "name": "ipython",
    "version": 3
   },
   "file_extension": ".py",
   "mimetype": "text/x-python",
   "name": "python",
   "nbconvert_exporter": "python",
   "pygments_lexer": "ipython3",
   "version": "3.7.9"
  }
 },
 "nbformat": 4,
 "nbformat_minor": 5
}
